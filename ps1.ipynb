{
  "nbformat": 4,
  "nbformat_minor": 0,
  "metadata": {
    "colab": {
      "name": "NinaKrstovic2018230089MT1.ipynb",
      "provenance": []
    },
    "kernelspec": {
      "name": "python3",
      "display_name": "Python 3"
    },
    "language_info": {
      "name": "python"
    }
  },
  "cells": [
    {
      "cell_type": "code",
      "metadata": {
        "id": "UE26A_LO8PYW"
      },
      "source": [
        "import numpy as np\n",
        "import pandas as pd\n",
        "import matplotlib.pyplot as plt\n",
        "%matplotlib inline\n",
        "from scipy import stats\n",
        "from math import factorial\n",
        "from itertools import product, combinations\n"
      ],
      "execution_count": 77,
      "outputs": []
    },
    {
      "cell_type": "code",
      "metadata": {
        "colab": {
          "base_uri": "https://localhost:8080/"
        },
        "id": "_HWSfzIJ2uPa",
        "outputId": "62ecefbc-b571-46bc-f6d2-aefdae42a5ce"
      },
      "source": [
        "#calculating alfa \n",
        "\n",
        "alpha=(0+8+9)%6\n",
        "alpha"
      ],
      "execution_count": 78,
      "outputs": [
        {
          "output_type": "execute_result",
          "data": {
            "text/plain": [
              "5"
            ]
          },
          "metadata": {
            "tags": []
          },
          "execution_count": 78
        }
      ]
    },
    {
      "cell_type": "code",
      "metadata": {
        "colab": {
          "base_uri": "https://localhost:8080/"
        },
        "id": "jFFVZyAs8cpm",
        "outputId": "781fe887-23a0-48e1-85d4-1bbbf94342a5"
      },
      "source": [
        "#1.a) \n",
        "probability = ((factorial(4) / factorial(3)) * (factorial(13) / (factorial(6) * factorial(7)))) / (factorial(52) / (factorial(45) * factorial(7)))\n",
        "probability"
      ],
      "execution_count": 103,
      "outputs": [
        {
          "output_type": "execute_result",
          "data": {
            "text/plain": [
              "5.1306368986077315e-05"
            ]
          },
          "metadata": {
            "tags": []
          },
          "execution_count": 103
        }
      ]
    },
    {
      "cell_type": "code",
      "metadata": {
        "colab": {
          "base_uri": "https://localhost:8080/",
          "height": 451
        },
        "id": "FTrizZhM_M62",
        "outputId": "8e2ab13d-edbc-45c4-aa22-043b653b9371"
      },
      "source": [
        "N=50000\n",
        "P_A = []\n",
        "N_A = 0\n",
        "\n",
        "for i in range(0, N):\n",
        "    index = np.random.choice(52, size=(alpha + 2), replace=False)\n",
        "    if index[0]%4 == index[1]%4:\n",
        "        N_A+=1\n",
        "    P_A.append(N_A / (i+1))\n",
        "    \n",
        "plt.xlabel('Number of iterations')\n",
        "plt.ylabel('Probability')\n",
        "plt.plot(np.arange(1, N+1), P_A, label = 'Statistical probability')\n",
        "    \n",
        "plt.plot(range(0, N), [probability] * N, 'k', label = 'Theoretical probability')  # 'k' - black color\n",
        "plt.legend()\n",
        "plt.show()"
      ],
      "execution_count": 111,
      "outputs": [
        {
          "output_type": "display_data",
          "data": {
            "image/png": "[encoded data removed]",
            "text/plain": [
              "<Figure size 748.8x514.8 with 1 Axes>"
            ]
          },
          "metadata": {
            "tags": [],
            "needs_background": "light"
          }
        }
      ]
    },
    {
      "cell_type": "code",
      "metadata": {
        "colab": {
          "base_uri": "https://localhost:8080/",
          "height": 222
        },
        "id": "SeKlJ8W0AlrX",
        "outputId": "90848edd-1c33-4b31-9aee-3a2517be0b0e"
      },
      "source": [
        "data = pd.read_csv(\"student-por.csv\")\n",
        "data.head()"
      ],
      "execution_count": 81,
      "outputs": [
        {
          "output_type": "execute_result",
          "data": {
            "text/html": [
              "<div>\n",
              "<style scoped>\n",
              "    .dataframe tbody tr th:only-of-type {\n",
              "        vertical-align: middle;\n",
              "    }\n",
              "\n",
              "    .dataframe tbody tr th {\n",
              "        vertical-align: top;\n",
              "    }\n",
              "\n",
              "    .dataframe thead th {\n",
              "        text-align: right;\n",
              "    }\n",
              "</style>\n",
              "<table border=\"1\" class=\"dataframe\">\n",
              "  <thead>\n",
              "    <tr style=\"text-align: right;\">\n",
              "      <th></th>\n",
              "      <th>school</th>\n",
              "      <th>sex</th>\n",
              "      <th>age</th>\n",
              "      <th>address</th>\n",
              "      <th>famsize</th>\n",
              "      <th>Pstatus</th>\n",
              "      <th>Medu</th>\n",
              "      <th>Fedu</th>\n",
              "      <th>Mjob</th>\n",
              "      <th>Fjob</th>\n",
              "      <th>reason</th>\n",
              "      <th>guardian</th>\n",
              "      <th>traveltime</th>\n",
              "      <th>studytime</th>\n",
              "      <th>failures</th>\n",
              "      <th>schoolsup</th>\n",
              "      <th>famsup</th>\n",
              "      <th>paid</th>\n",
              "      <th>activities</th>\n",
              "      <th>nursery</th>\n",
              "      <th>higher</th>\n",
              "      <th>internet</th>\n",
              "      <th>romantic</th>\n",
              "      <th>famrel</th>\n",
              "      <th>freetime</th>\n",
              "      <th>goout</th>\n",
              "      <th>Dalc</th>\n",
              "      <th>Walc</th>\n",
              "      <th>health</th>\n",
              "      <th>absences</th>\n",
              "      <th>G1</th>\n",
              "      <th>G2</th>\n",
              "      <th>G3</th>\n",
              "    </tr>\n",
              "  </thead>\n",
              "  <tbody>\n",
              "    <tr>\n",
              "      <th>0</th>\n",
              "      <td>GP</td>\n",
              "      <td>F</td>\n",
              "      <td>18</td>\n",
              "      <td>U</td>\n",
              "      <td>GT3</td>\n",
              "      <td>A</td>\n",
              "      <td>4</td>\n",
              "      <td>4</td>\n",
              "      <td>at_home</td>\n",
              "      <td>teacher</td>\n",
              "      <td>course</td>\n",
              "      <td>mother</td>\n",
              "      <td>2</td>\n",
              "      <td>2</td>\n",
              "      <td>0</td>\n",
              "      <td>yes</td>\n",
              "      <td>no</td>\n",
              "      <td>no</td>\n",
              "      <td>no</td>\n",
              "      <td>yes</td>\n",
              "      <td>yes</td>\n",
              "      <td>no</td>\n",
              "      <td>no</td>\n",
              "      <td>4</td>\n",
              "      <td>3</td>\n",
              "      <td>4</td>\n",
              "      <td>1</td>\n",
              "      <td>1</td>\n",
              "      <td>3</td>\n",
              "      <td>4</td>\n",
              "      <td>0</td>\n",
              "      <td>11</td>\n",
              "      <td>11</td>\n",
              "    </tr>\n",
              "    <tr>\n",
              "      <th>1</th>\n",
              "      <td>GP</td>\n",
              "      <td>F</td>\n",
              "      <td>17</td>\n",
              "      <td>U</td>\n",
              "      <td>GT3</td>\n",
              "      <td>T</td>\n",
              "      <td>1</td>\n",
              "      <td>1</td>\n",
              "      <td>at_home</td>\n",
              "      <td>other</td>\n",
              "      <td>course</td>\n",
              "      <td>father</td>\n",
              "      <td>1</td>\n",
              "      <td>2</td>\n",
              "      <td>0</td>\n",
              "      <td>no</td>\n",
              "      <td>yes</td>\n",
              "      <td>no</td>\n",
              "      <td>no</td>\n",
              "      <td>no</td>\n",
              "      <td>yes</td>\n",
              "      <td>yes</td>\n",
              "      <td>no</td>\n",
              "      <td>5</td>\n",
              "      <td>3</td>\n",
              "      <td>3</td>\n",
              "      <td>1</td>\n",
              "      <td>1</td>\n",
              "      <td>3</td>\n",
              "      <td>2</td>\n",
              "      <td>9</td>\n",
              "      <td>11</td>\n",
              "      <td>11</td>\n",
              "    </tr>\n",
              "    <tr>\n",
              "      <th>2</th>\n",
              "      <td>GP</td>\n",
              "      <td>F</td>\n",
              "      <td>15</td>\n",
              "      <td>U</td>\n",
              "      <td>LE3</td>\n",
              "      <td>T</td>\n",
              "      <td>1</td>\n",
              "      <td>1</td>\n",
              "      <td>at_home</td>\n",
              "      <td>other</td>\n",
              "      <td>other</td>\n",
              "      <td>mother</td>\n",
              "      <td>1</td>\n",
              "      <td>2</td>\n",
              "      <td>0</td>\n",
              "      <td>yes</td>\n",
              "      <td>no</td>\n",
              "      <td>no</td>\n",
              "      <td>no</td>\n",
              "      <td>yes</td>\n",
              "      <td>yes</td>\n",
              "      <td>yes</td>\n",
              "      <td>no</td>\n",
              "      <td>4</td>\n",
              "      <td>3</td>\n",
              "      <td>2</td>\n",
              "      <td>2</td>\n",
              "      <td>3</td>\n",
              "      <td>3</td>\n",
              "      <td>6</td>\n",
              "      <td>12</td>\n",
              "      <td>13</td>\n",
              "      <td>12</td>\n",
              "    </tr>\n",
              "    <tr>\n",
              "      <th>3</th>\n",
              "      <td>GP</td>\n",
              "      <td>F</td>\n",
              "      <td>15</td>\n",
              "      <td>U</td>\n",
              "      <td>GT3</td>\n",
              "      <td>T</td>\n",
              "      <td>4</td>\n",
              "      <td>2</td>\n",
              "      <td>health</td>\n",
              "      <td>services</td>\n",
              "      <td>home</td>\n",
              "      <td>mother</td>\n",
              "      <td>1</td>\n",
              "      <td>3</td>\n",
              "      <td>0</td>\n",
              "      <td>no</td>\n",
              "      <td>yes</td>\n",
              "      <td>no</td>\n",
              "      <td>yes</td>\n",
              "      <td>yes</td>\n",
              "      <td>yes</td>\n",
              "      <td>yes</td>\n",
              "      <td>yes</td>\n",
              "      <td>3</td>\n",
              "      <td>2</td>\n",
              "      <td>2</td>\n",
              "      <td>1</td>\n",
              "      <td>1</td>\n",
              "      <td>5</td>\n",
              "      <td>0</td>\n",
              "      <td>14</td>\n",
              "      <td>14</td>\n",
              "      <td>14</td>\n",
              "    </tr>\n",
              "    <tr>\n",
              "      <th>4</th>\n",
              "      <td>GP</td>\n",
              "      <td>F</td>\n",
              "      <td>16</td>\n",
              "      <td>U</td>\n",
              "      <td>GT3</td>\n",
              "      <td>T</td>\n",
              "      <td>3</td>\n",
              "      <td>3</td>\n",
              "      <td>other</td>\n",
              "      <td>other</td>\n",
              "      <td>home</td>\n",
              "      <td>father</td>\n",
              "      <td>1</td>\n",
              "      <td>2</td>\n",
              "      <td>0</td>\n",
              "      <td>no</td>\n",
              "      <td>yes</td>\n",
              "      <td>no</td>\n",
              "      <td>no</td>\n",
              "      <td>yes</td>\n",
              "      <td>yes</td>\n",
              "      <td>no</td>\n",
              "      <td>no</td>\n",
              "      <td>4</td>\n",
              "      <td>3</td>\n",
              "      <td>2</td>\n",
              "      <td>1</td>\n",
              "      <td>2</td>\n",
              "      <td>5</td>\n",
              "      <td>0</td>\n",
              "      <td>11</td>\n",
              "      <td>13</td>\n",
              "      <td>13</td>\n",
              "    </tr>\n",
              "  </tbody>\n",
              "</table>\n",
              "</div>"
            ],
            "text/plain": [
              "  school sex  age address famsize Pstatus  ...  Walc  health absences  G1  G2  G3\n",
              "0     GP   F   18       U     GT3       A  ...     1       3        4   0  11  11\n",
              "1     GP   F   17       U     GT3       T  ...     1       3        2   9  11  11\n",
              "2     GP   F   15       U     LE3       T  ...     3       3        6  12  13  12\n",
              "3     GP   F   15       U     GT3       T  ...     1       5        0  14  14  14\n",
              "4     GP   F   16       U     GT3       T  ...     2       5        0  11  13  13\n",
              "\n",
              "[5 rows x 33 columns]"
            ]
          },
          "metadata": {
            "tags": []
          },
          "execution_count": 81
        }
      ]
    },
    {
      "cell_type": "code",
      "metadata": {
        "colab": {
          "base_uri": "https://localhost:8080/",
          "height": 202
        },
        "id": "Nbu7nmtsCwj5",
        "outputId": "72533659-a979-44bb-fe90-46cb0ac07ece"
      },
      "source": [
        "#2.\n",
        "attributes = [\"G3\", \"Fedu\"]\n",
        "stud = data[attributes]\n",
        "stud.head()"
      ],
      "execution_count": 82,
      "outputs": [
        {
          "output_type": "execute_result",
          "data": {
            "text/html": [
              "<div>\n",
              "<style scoped>\n",
              "    .dataframe tbody tr th:only-of-type {\n",
              "        vertical-align: middle;\n",
              "    }\n",
              "\n",
              "    .dataframe tbody tr th {\n",
              "        vertical-align: top;\n",
              "    }\n",
              "\n",
              "    .dataframe thead th {\n",
              "        text-align: right;\n",
              "    }\n",
              "</style>\n",
              "<table border=\"1\" class=\"dataframe\">\n",
              "  <thead>\n",
              "    <tr style=\"text-align: right;\">\n",
              "      <th></th>\n",
              "      <th>G3</th>\n",
              "      <th>Fedu</th>\n",
              "    </tr>\n",
              "  </thead>\n",
              "  <tbody>\n",
              "    <tr>\n",
              "      <th>0</th>\n",
              "      <td>11</td>\n",
              "      <td>4</td>\n",
              "    </tr>\n",
              "    <tr>\n",
              "      <th>1</th>\n",
              "      <td>11</td>\n",
              "      <td>1</td>\n",
              "    </tr>\n",
              "    <tr>\n",
              "      <th>2</th>\n",
              "      <td>12</td>\n",
              "      <td>1</td>\n",
              "    </tr>\n",
              "    <tr>\n",
              "      <th>3</th>\n",
              "      <td>14</td>\n",
              "      <td>2</td>\n",
              "    </tr>\n",
              "    <tr>\n",
              "      <th>4</th>\n",
              "      <td>13</td>\n",
              "      <td>3</td>\n",
              "    </tr>\n",
              "  </tbody>\n",
              "</table>\n",
              "</div>"
            ],
            "text/plain": [
              "   G3  Fedu\n",
              "0  11     4\n",
              "1  11     1\n",
              "2  12     1\n",
              "3  14     2\n",
              "4  13     3"
            ]
          },
          "metadata": {
            "tags": []
          },
          "execution_count": 82
        }
      ]
    },
    {
      "cell_type": "code",
      "metadata": {
        "colab": {
          "base_uri": "https://localhost:8080/"
        },
        "id": "3GQi0JmQC7Rb",
        "outputId": "9b0a275b-0de0-4118-e804-174c92b28784"
      },
      "source": [
        "#a)\n",
        "data_temp=(stud['G3']>(alpha+5) & (stud['G3']<(alpha+15))).value_counts()\n",
        "data_temp"
      ],
      "execution_count": 83,
      "outputs": [
        {
          "output_type": "execute_result",
          "data": {
            "text/plain": [
              "True     634\n",
              "False     15\n",
              "Name: G3, dtype: int64"
            ]
          },
          "metadata": {
            "tags": []
          },
          "execution_count": 83
        }
      ]
    },
    {
      "cell_type": "code",
      "metadata": {
        "colab": {
          "base_uri": "https://localhost:8080/",
          "height": 354
        },
        "id": "kC1hey1wDDJu",
        "outputId": "40e7e18f-8746-47a7-8694-7278b42cebe8"
      },
      "source": [
        "P_2A=pd.DataFrame([data_temp[True]])/len(data)\n",
        "P_2A.index = [\"5< <15\"]\n",
        "P_2A.columns = [\"Probability\"]\n",
        "\n",
        "P_2A.plot.bar(fontsize=12)\n",
        "plt.ylabel(\"Probability\",fontsize=12)\n",
        "plt.xlabel(\"Fedu\",fontsize=12)\n",
        "plt.show()\n",
        "print(P_2A)"
      ],
      "execution_count": 84,
      "outputs": [
        {
          "output_type": "display_data",
          "data": {
            "image/png": "[encoded data removed]",
            "text/plain": [
              "<Figure size 432x288 with 1 Axes>"
            ]
          },
          "metadata": {
            "tags": [],
            "needs_background": "light"
          }
        },
        {
          "output_type": "stream",
          "text": [
            "        Probability\n",
            "5< <15     0.976888\n"
          ],
          "name": "stdout"
        }
      ]
    },
    {
      "cell_type": "code",
      "metadata": {
        "colab": {
          "base_uri": "https://localhost:8080/"
        },
        "id": "hpQmzALoDN3U",
        "outputId": "aadf649e-5d66-485a-8ece-cdb6dd50ed96"
      },
      "source": [
        "#b)\n",
        "data_temp1=(stud['Fedu']<3).value_counts()\n",
        "data_temp1"
      ],
      "execution_count": 85,
      "outputs": [
        {
          "output_type": "execute_result",
          "data": {
            "text/plain": [
              "True     390\n",
              "False    259\n",
              "Name: Fedu, dtype: int64"
            ]
          },
          "metadata": {
            "tags": []
          },
          "execution_count": 85
        }
      ]
    },
    {
      "cell_type": "code",
      "metadata": {
        "colab": {
          "base_uri": "https://localhost:8080/"
        },
        "id": "dzXtDRzyDfXN",
        "outputId": "e205b13d-7e5f-402c-f023-2c5e0895bddd"
      },
      "source": [
        "data_temp2=(stud['Fedu']==3).value_counts()\n",
        "data_temp2"
      ],
      "execution_count": 86,
      "outputs": [
        {
          "output_type": "execute_result",
          "data": {
            "text/plain": [
              "False    518\n",
              "True     131\n",
              "Name: Fedu, dtype: int64"
            ]
          },
          "metadata": {
            "tags": []
          },
          "execution_count": 86
        }
      ]
    },
    {
      "cell_type": "code",
      "metadata": {
        "colab": {
          "base_uri": "https://localhost:8080/"
        },
        "id": "N__DCcndDqJ1",
        "outputId": "52c3a1ac-6169-4fa3-d099-522864cd21df"
      },
      "source": [
        "data_temp3=(stud['Fedu']>3).value_counts()\n",
        "data_temp3"
      ],
      "execution_count": 87,
      "outputs": [
        {
          "output_type": "execute_result",
          "data": {
            "text/plain": [
              "False    521\n",
              "True     128\n",
              "Name: Fedu, dtype: int64"
            ]
          },
          "metadata": {
            "tags": []
          },
          "execution_count": 87
        }
      ]
    },
    {
      "cell_type": "code",
      "metadata": {
        "colab": {
          "base_uri": "https://localhost:8080/",
          "height": 361
        },
        "id": "w4lg0kPrIr5D",
        "outputId": "ce236c7f-a5f1-4b91-8870-8f74824f5114"
      },
      "source": [
        "P_2B=pd.DataFrame([data_temp1[True], data_temp2[True],data_temp3[True]])/len(data)\n",
        "P_2B.index = [\"<3\",\"3\",\">3\"]\n",
        "P_2B.columns = [\"Probability\"]\n",
        "\n",
        "P_2B.plot.bar(fontsize=12)\n",
        "plt.ylabel(\"Probability\",fontsize=12)\n",
        "plt.xlabel(\"Fedu\",fontsize=12)\n",
        "plt.show()\n",
        "print(P_2B)"
      ],
      "execution_count": 88,
      "outputs": [
        {
          "output_type": "display_data",
          "data": {
            "image/png": "[encoded data removed]",
            "text/plain": [
              "<Figure size 432x288 with 1 Axes>"
            ]
          },
          "metadata": {
            "tags": [],
            "needs_background": "light"
          }
        },
        {
          "output_type": "stream",
          "text": [
            "    Probability\n",
            "<3     0.600924\n",
            "3      0.201849\n",
            ">3     0.197227\n"
          ],
          "name": "stdout"
        }
      ]
    },
    {
      "cell_type": "code",
      "metadata": {
        "colab": {
          "base_uri": "https://localhost:8080/"
        },
        "id": "mK8fZd76EGCh",
        "outputId": "b18c41c5-03d8-419e-ec66-de6b83d96ede"
      },
      "source": [
        "#c)\n",
        "temp=(stud[\"Fedu\"]>3).value_counts()\n",
        "temp"
      ],
      "execution_count": 89,
      "outputs": [
        {
          "output_type": "execute_result",
          "data": {
            "text/plain": [
              "False    521\n",
              "True     128\n",
              "Name: Fedu, dtype: int64"
            ]
          },
          "metadata": {
            "tags": []
          },
          "execution_count": 89
        }
      ]
    },
    {
      "cell_type": "code",
      "metadata": {
        "colab": {
          "base_uri": "https://localhost:8080/"
        },
        "id": "bKCUJrmcJzww",
        "outputId": "a2360e15-d145-483f-f3aa-e52f64d338fb"
      },
      "source": [
        "data_temp4=((stud[\"Fedu\"]>3) & (stud[\"G3\"]>(alpha + 5)) & (stud[\"G3\"]<(alpha + 15))).value_counts()\n",
        "data_temp4"
      ],
      "execution_count": 90,
      "outputs": [
        {
          "output_type": "execute_result",
          "data": {
            "text/plain": [
              "False    542\n",
              "True     107\n",
              "dtype: int64"
            ]
          },
          "metadata": {
            "tags": []
          },
          "execution_count": 90
        }
      ]
    },
    {
      "cell_type": "code",
      "metadata": {
        "colab": {
          "base_uri": "https://localhost:8080/",
          "height": 356
        },
        "id": "P1r_hP-rER6_",
        "outputId": "fc2a1c73-9112-48a5-f764-3e31976ffa8a"
      },
      "source": [
        "P_2C=pd.DataFrame(data_temp4/temp)\n",
        "P_2C.columns = [\"Probability\"]\n",
        "\n",
        "P_2C.plot.bar(fontsize=12)\n",
        "plt.ylabel(\"Probability\",fontsize=12)\n",
        "plt.xlabel(\"Fedu\",fontsize=12)\n",
        "plt.show()\n",
        "print(P_2C)"
      ],
      "execution_count": 91,
      "outputs": [
        {
          "output_type": "display_data",
          "data": {
            "image/png": "[encoded data removed]",
            "text/plain": [
              "<Figure size 432x288 with 1 Axes>"
            ]
          },
          "metadata": {
            "tags": [],
            "needs_background": "light"
          }
        },
        {
          "output_type": "stream",
          "text": [
            "       Probability\n",
            "False     1.040307\n",
            "True      0.835938\n"
          ],
          "name": "stdout"
        }
      ]
    },
    {
      "cell_type": "code",
      "metadata": {
        "id": "l2OVD4ciEbjM"
      },
      "source": [
        "P_2C=pd.DataFrame([data_temp1[True], data_temp2[True],data_temp3[True]])/len(data)"
      ],
      "execution_count": 92,
      "outputs": []
    },
    {
      "cell_type": "code",
      "metadata": {
        "colab": {
          "base_uri": "https://localhost:8080/",
          "height": 476
        },
        "id": "FAwc1lTXEk1b",
        "outputId": "d274134b-8dbc-4378-a31e-21ca58161f23"
      },
      "source": [
        "#d)\n",
        "P_2D=pd.DataFrame(P_2C*P_2A/P_2B.loc['>3'])\n",
        "P_2D.columns = [\"Probability\"]\n",
        "\n",
        "P_2D.plot.bar(fontsize=12)\n",
        "plt.ylabel(\"Probability\",fontsize=12)\n",
        "plt.xlabel(\"Fedu\",fontsize=12)\n",
        "plt.show()\n",
        "print(P_2D)\n",
        "\n",
        "\n"
      ],
      "execution_count": 93,
      "outputs": [
        {
          "output_type": "error",
          "ename": "ValueError",
          "evalue": "ignored",
          "traceback": [
            "\u001b[0;31m---------------------------------------------------------------------------\u001b[0m",
            "\u001b[0;31mValueError\u001b[0m                                Traceback (most recent call last)",
            "\u001b[0;32m<ipython-input-93-9b436774d434>\u001b[0m in \u001b[0;36m<module>\u001b[0;34m()\u001b[0m\n\u001b[1;32m      1\u001b[0m \u001b[0;31m#d)\u001b[0m\u001b[0;34m\u001b[0m\u001b[0;34m\u001b[0m\u001b[0;34m\u001b[0m\u001b[0m\n\u001b[1;32m      2\u001b[0m \u001b[0mP_2D\u001b[0m\u001b[0;34m=\u001b[0m\u001b[0mpd\u001b[0m\u001b[0;34m.\u001b[0m\u001b[0mDataFrame\u001b[0m\u001b[0;34m(\u001b[0m\u001b[0mP_2C\u001b[0m\u001b[0;34m*\u001b[0m\u001b[0mP_2A\u001b[0m\u001b[0;34m/\u001b[0m\u001b[0mP_2B\u001b[0m\u001b[0;34m.\u001b[0m\u001b[0mloc\u001b[0m\u001b[0;34m[\u001b[0m\u001b[0;34m'>3'\u001b[0m\u001b[0;34m]\u001b[0m\u001b[0;34m)\u001b[0m\u001b[0;34m\u001b[0m\u001b[0;34m\u001b[0m\u001b[0m\n\u001b[0;32m----> 3\u001b[0;31m \u001b[0mP_2D\u001b[0m\u001b[0;34m.\u001b[0m\u001b[0mcolumns\u001b[0m \u001b[0;34m=\u001b[0m \u001b[0;34m[\u001b[0m\u001b[0;34m\"Probability\"\u001b[0m\u001b[0;34m]\u001b[0m\u001b[0;34m\u001b[0m\u001b[0;34m\u001b[0m\u001b[0m\n\u001b[0m\u001b[1;32m      4\u001b[0m \u001b[0;34m\u001b[0m\u001b[0m\n\u001b[1;32m      5\u001b[0m \u001b[0mP_2D\u001b[0m\u001b[0;34m.\u001b[0m\u001b[0mplot\u001b[0m\u001b[0;34m.\u001b[0m\u001b[0mbar\u001b[0m\u001b[0;34m(\u001b[0m\u001b[0mfontsize\u001b[0m\u001b[0;34m=\u001b[0m\u001b[0;36m12\u001b[0m\u001b[0;34m)\u001b[0m\u001b[0;34m\u001b[0m\u001b[0;34m\u001b[0m\u001b[0m\n",
            "\u001b[0;32m/usr/local/lib/python3.7/dist-packages/pandas/core/generic.py\u001b[0m in \u001b[0;36m__setattr__\u001b[0;34m(self, name, value)\u001b[0m\n\u001b[1;32m   5152\u001b[0m         \u001b[0;32mtry\u001b[0m\u001b[0;34m:\u001b[0m\u001b[0;34m\u001b[0m\u001b[0;34m\u001b[0m\u001b[0m\n\u001b[1;32m   5153\u001b[0m             \u001b[0mobject\u001b[0m\u001b[0;34m.\u001b[0m\u001b[0m__getattribute__\u001b[0m\u001b[0;34m(\u001b[0m\u001b[0mself\u001b[0m\u001b[0;34m,\u001b[0m \u001b[0mname\u001b[0m\u001b[0;34m)\u001b[0m\u001b[0;34m\u001b[0m\u001b[0;34m\u001b[0m\u001b[0m\n\u001b[0;32m-> 5154\u001b[0;31m             \u001b[0;32mreturn\u001b[0m \u001b[0mobject\u001b[0m\u001b[0;34m.\u001b[0m\u001b[0m__setattr__\u001b[0m\u001b[0;34m(\u001b[0m\u001b[0mself\u001b[0m\u001b[0;34m,\u001b[0m \u001b[0mname\u001b[0m\u001b[0;34m,\u001b[0m \u001b[0mvalue\u001b[0m\u001b[0;34m)\u001b[0m\u001b[0;34m\u001b[0m\u001b[0;34m\u001b[0m\u001b[0m\n\u001b[0m\u001b[1;32m   5155\u001b[0m         \u001b[0;32mexcept\u001b[0m \u001b[0mAttributeError\u001b[0m\u001b[0;34m:\u001b[0m\u001b[0;34m\u001b[0m\u001b[0;34m\u001b[0m\u001b[0m\n\u001b[1;32m   5156\u001b[0m             \u001b[0;32mpass\u001b[0m\u001b[0;34m\u001b[0m\u001b[0;34m\u001b[0m\u001b[0m\n",
            "\u001b[0;32mpandas/_libs/properties.pyx\u001b[0m in \u001b[0;36mpandas._libs.properties.AxisProperty.__set__\u001b[0;34m()\u001b[0m\n",
            "\u001b[0;32m/usr/local/lib/python3.7/dist-packages/pandas/core/generic.py\u001b[0m in \u001b[0;36m_set_axis\u001b[0;34m(self, axis, labels)\u001b[0m\n\u001b[1;32m    562\u001b[0m     \u001b[0;32mdef\u001b[0m \u001b[0m_set_axis\u001b[0m\u001b[0;34m(\u001b[0m\u001b[0mself\u001b[0m\u001b[0;34m,\u001b[0m \u001b[0maxis\u001b[0m\u001b[0;34m:\u001b[0m \u001b[0mint\u001b[0m\u001b[0;34m,\u001b[0m \u001b[0mlabels\u001b[0m\u001b[0;34m:\u001b[0m \u001b[0mIndex\u001b[0m\u001b[0;34m)\u001b[0m \u001b[0;34m->\u001b[0m \u001b[0;32mNone\u001b[0m\u001b[0;34m:\u001b[0m\u001b[0;34m\u001b[0m\u001b[0;34m\u001b[0m\u001b[0m\n\u001b[1;32m    563\u001b[0m         \u001b[0mlabels\u001b[0m \u001b[0;34m=\u001b[0m \u001b[0mensure_index\u001b[0m\u001b[0;34m(\u001b[0m\u001b[0mlabels\u001b[0m\u001b[0;34m)\u001b[0m\u001b[0;34m\u001b[0m\u001b[0;34m\u001b[0m\u001b[0m\n\u001b[0;32m--> 564\u001b[0;31m         \u001b[0mself\u001b[0m\u001b[0;34m.\u001b[0m\u001b[0m_mgr\u001b[0m\u001b[0;34m.\u001b[0m\u001b[0mset_axis\u001b[0m\u001b[0;34m(\u001b[0m\u001b[0maxis\u001b[0m\u001b[0;34m,\u001b[0m \u001b[0mlabels\u001b[0m\u001b[0;34m)\u001b[0m\u001b[0;34m\u001b[0m\u001b[0;34m\u001b[0m\u001b[0m\n\u001b[0m\u001b[1;32m    565\u001b[0m         \u001b[0mself\u001b[0m\u001b[0;34m.\u001b[0m\u001b[0m_clear_item_cache\u001b[0m\u001b[0;34m(\u001b[0m\u001b[0;34m)\u001b[0m\u001b[0;34m\u001b[0m\u001b[0;34m\u001b[0m\u001b[0m\n\u001b[1;32m    566\u001b[0m \u001b[0;34m\u001b[0m\u001b[0m\n",
            "\u001b[0;32m/usr/local/lib/python3.7/dist-packages/pandas/core/internals/managers.py\u001b[0m in \u001b[0;36mset_axis\u001b[0;34m(self, axis, new_labels)\u001b[0m\n\u001b[1;32m    225\u001b[0m         \u001b[0;32mif\u001b[0m \u001b[0mnew_len\u001b[0m \u001b[0;34m!=\u001b[0m \u001b[0mold_len\u001b[0m\u001b[0;34m:\u001b[0m\u001b[0;34m\u001b[0m\u001b[0;34m\u001b[0m\u001b[0m\n\u001b[1;32m    226\u001b[0m             raise ValueError(\n\u001b[0;32m--> 227\u001b[0;31m                 \u001b[0;34mf\"Length mismatch: Expected axis has {old_len} elements, new \"\u001b[0m\u001b[0;34m\u001b[0m\u001b[0;34m\u001b[0m\u001b[0m\n\u001b[0m\u001b[1;32m    228\u001b[0m                 \u001b[0;34mf\"values have {new_len} elements\"\u001b[0m\u001b[0;34m\u001b[0m\u001b[0;34m\u001b[0m\u001b[0m\n\u001b[1;32m    229\u001b[0m             )\n",
            "\u001b[0;31mValueError\u001b[0m: Length mismatch: Expected axis has 2 elements, new values have 1 elements"
          ]
        }
      ]
    },
    {
      "cell_type": "code",
      "metadata": {
        "colab": {
          "base_uri": "https://localhost:8080/",
          "height": 565
        },
        "id": "aidTrRx7L5gR",
        "outputId": "bf8bf637-b961-423b-a68f-ed6c70057264"
      },
      "source": [
        "plt.style.use('seaborn-talk')\n",
        "df1 = pd.read_csv(\"pressure.csv\")\n",
        "print(df1.columns)\n",
        "df1.head()"
      ],
      "execution_count": 95,
      "outputs": [
        {
          "output_type": "stream",
          "text": [
            "Index(['datetime', 'Vancouver', 'Portland', 'San Francisco', 'Seattle',\n",
            "       'Los Angeles', 'San Diego', 'Las Vegas', 'Phoenix', 'Albuquerque',\n",
            "       'Denver', 'San Antonio', 'Dallas', 'Houston', 'Kansas City',\n",
            "       'Minneapolis', 'Saint Louis', 'Chicago', 'Nashville', 'Indianapolis',\n",
            "       'Atlanta', 'Detroit', 'Jacksonville', 'Charlotte', 'Miami',\n",
            "       'Pittsburgh', 'Toronto', 'Philadelphia', 'New York', 'Montreal',\n",
            "       'Boston', 'Beersheba', 'Tel Aviv District', 'Eilat', 'Haifa',\n",
            "       'Nahariyya', 'Jerusalem'],\n",
            "      dtype='object')\n"
          ],
          "name": "stdout"
        },
        {
          "output_type": "execute_result",
          "data": {
            "text/html": [
              "<div>\n",
              "<style scoped>\n",
              "    .dataframe tbody tr th:only-of-type {\n",
              "        vertical-align: middle;\n",
              "    }\n",
              "\n",
              "    .dataframe tbody tr th {\n",
              "        vertical-align: top;\n",
              "    }\n",
              "\n",
              "    .dataframe thead th {\n",
              "        text-align: right;\n",
              "    }\n",
              "</style>\n",
              "<table border=\"1\" class=\"dataframe\">\n",
              "  <thead>\n",
              "    <tr style=\"text-align: right;\">\n",
              "      <th></th>\n",
              "      <th>datetime</th>\n",
              "      <th>Vancouver</th>\n",
              "      <th>Portland</th>\n",
              "      <th>San Francisco</th>\n",
              "      <th>Seattle</th>\n",
              "      <th>Los Angeles</th>\n",
              "      <th>San Diego</th>\n",
              "      <th>Las Vegas</th>\n",
              "      <th>Phoenix</th>\n",
              "      <th>Albuquerque</th>\n",
              "      <th>Denver</th>\n",
              "      <th>San Antonio</th>\n",
              "      <th>Dallas</th>\n",
              "      <th>Houston</th>\n",
              "      <th>Kansas City</th>\n",
              "      <th>Minneapolis</th>\n",
              "      <th>Saint Louis</th>\n",
              "      <th>Chicago</th>\n",
              "      <th>Nashville</th>\n",
              "      <th>Indianapolis</th>\n",
              "      <th>Atlanta</th>\n",
              "      <th>Detroit</th>\n",
              "      <th>Jacksonville</th>\n",
              "      <th>Charlotte</th>\n",
              "      <th>Miami</th>\n",
              "      <th>Pittsburgh</th>\n",
              "      <th>Toronto</th>\n",
              "      <th>Philadelphia</th>\n",
              "      <th>New York</th>\n",
              "      <th>Montreal</th>\n",
              "      <th>Boston</th>\n",
              "      <th>Beersheba</th>\n",
              "      <th>Tel Aviv District</th>\n",
              "      <th>Eilat</th>\n",
              "      <th>Haifa</th>\n",
              "      <th>Nahariyya</th>\n",
              "      <th>Jerusalem</th>\n",
              "    </tr>\n",
              "  </thead>\n",
              "  <tbody>\n",
              "    <tr>\n",
              "      <th>0</th>\n",
              "      <td>2012-10-01 12:00:00</td>\n",
              "      <td>NaN</td>\n",
              "      <td>NaN</td>\n",
              "      <td>NaN</td>\n",
              "      <td>NaN</td>\n",
              "      <td>NaN</td>\n",
              "      <td>NaN</td>\n",
              "      <td>NaN</td>\n",
              "      <td>NaN</td>\n",
              "      <td>NaN</td>\n",
              "      <td>NaN</td>\n",
              "      <td>NaN</td>\n",
              "      <td>NaN</td>\n",
              "      <td>NaN</td>\n",
              "      <td>NaN</td>\n",
              "      <td>NaN</td>\n",
              "      <td>NaN</td>\n",
              "      <td>NaN</td>\n",
              "      <td>NaN</td>\n",
              "      <td>NaN</td>\n",
              "      <td>NaN</td>\n",
              "      <td>NaN</td>\n",
              "      <td>NaN</td>\n",
              "      <td>NaN</td>\n",
              "      <td>NaN</td>\n",
              "      <td>NaN</td>\n",
              "      <td>NaN</td>\n",
              "      <td>NaN</td>\n",
              "      <td>NaN</td>\n",
              "      <td>NaN</td>\n",
              "      <td>NaN</td>\n",
              "      <td>NaN</td>\n",
              "      <td>NaN</td>\n",
              "      <td>1011.0</td>\n",
              "      <td>NaN</td>\n",
              "      <td>NaN</td>\n",
              "      <td>NaN</td>\n",
              "    </tr>\n",
              "    <tr>\n",
              "      <th>1</th>\n",
              "      <td>2012-10-01 13:00:00</td>\n",
              "      <td>NaN</td>\n",
              "      <td>1024.0</td>\n",
              "      <td>1009.0</td>\n",
              "      <td>1027.0</td>\n",
              "      <td>1013.0</td>\n",
              "      <td>1013.0</td>\n",
              "      <td>1018.0</td>\n",
              "      <td>1013.0</td>\n",
              "      <td>1024.0</td>\n",
              "      <td>1028.0</td>\n",
              "      <td>1014.0</td>\n",
              "      <td>1011.0</td>\n",
              "      <td>1009.0</td>\n",
              "      <td>1011.0</td>\n",
              "      <td>1012.0</td>\n",
              "      <td>1010.0</td>\n",
              "      <td>1014.0</td>\n",
              "      <td>1005.0</td>\n",
              "      <td>1011.0</td>\n",
              "      <td>1006.0</td>\n",
              "      <td>1016.0</td>\n",
              "      <td>1009.0</td>\n",
              "      <td>1012.0</td>\n",
              "      <td>1011.0</td>\n",
              "      <td>1015.0</td>\n",
              "      <td>1012.0</td>\n",
              "      <td>1014.0</td>\n",
              "      <td>1012.0</td>\n",
              "      <td>1001.0</td>\n",
              "      <td>1014.0</td>\n",
              "      <td>984.0</td>\n",
              "      <td>1012.0</td>\n",
              "      <td>1010.0</td>\n",
              "      <td>1013.0</td>\n",
              "      <td>1013.0</td>\n",
              "      <td>990.0</td>\n",
              "    </tr>\n",
              "    <tr>\n",
              "      <th>2</th>\n",
              "      <td>2012-10-01 14:00:00</td>\n",
              "      <td>NaN</td>\n",
              "      <td>1024.0</td>\n",
              "      <td>1009.0</td>\n",
              "      <td>1027.0</td>\n",
              "      <td>1013.0</td>\n",
              "      <td>1013.0</td>\n",
              "      <td>1018.0</td>\n",
              "      <td>1013.0</td>\n",
              "      <td>1024.0</td>\n",
              "      <td>1028.0</td>\n",
              "      <td>1014.0</td>\n",
              "      <td>1011.0</td>\n",
              "      <td>1008.0</td>\n",
              "      <td>1011.0</td>\n",
              "      <td>1012.0</td>\n",
              "      <td>1010.0</td>\n",
              "      <td>1014.0</td>\n",
              "      <td>1004.0</td>\n",
              "      <td>1011.0</td>\n",
              "      <td>1006.0</td>\n",
              "      <td>1015.0</td>\n",
              "      <td>1009.0</td>\n",
              "      <td>1012.0</td>\n",
              "      <td>1011.0</td>\n",
              "      <td>1015.0</td>\n",
              "      <td>1011.0</td>\n",
              "      <td>1014.0</td>\n",
              "      <td>1012.0</td>\n",
              "      <td>986.0</td>\n",
              "      <td>1014.0</td>\n",
              "      <td>984.0</td>\n",
              "      <td>1012.0</td>\n",
              "      <td>1010.0</td>\n",
              "      <td>1013.0</td>\n",
              "      <td>1013.0</td>\n",
              "      <td>990.0</td>\n",
              "    </tr>\n",
              "    <tr>\n",
              "      <th>3</th>\n",
              "      <td>2012-10-01 15:00:00</td>\n",
              "      <td>NaN</td>\n",
              "      <td>1024.0</td>\n",
              "      <td>1009.0</td>\n",
              "      <td>1028.0</td>\n",
              "      <td>1013.0</td>\n",
              "      <td>1013.0</td>\n",
              "      <td>1018.0</td>\n",
              "      <td>1013.0</td>\n",
              "      <td>1024.0</td>\n",
              "      <td>1028.0</td>\n",
              "      <td>1014.0</td>\n",
              "      <td>1011.0</td>\n",
              "      <td>1008.0</td>\n",
              "      <td>1011.0</td>\n",
              "      <td>1012.0</td>\n",
              "      <td>1010.0</td>\n",
              "      <td>1014.0</td>\n",
              "      <td>1004.0</td>\n",
              "      <td>1011.0</td>\n",
              "      <td>1006.0</td>\n",
              "      <td>1015.0</td>\n",
              "      <td>1009.0</td>\n",
              "      <td>1012.0</td>\n",
              "      <td>1011.0</td>\n",
              "      <td>1015.0</td>\n",
              "      <td>1011.0</td>\n",
              "      <td>1014.0</td>\n",
              "      <td>1012.0</td>\n",
              "      <td>945.0</td>\n",
              "      <td>1014.0</td>\n",
              "      <td>984.0</td>\n",
              "      <td>1012.0</td>\n",
              "      <td>1010.0</td>\n",
              "      <td>1013.0</td>\n",
              "      <td>1013.0</td>\n",
              "      <td>990.0</td>\n",
              "    </tr>\n",
              "    <tr>\n",
              "      <th>4</th>\n",
              "      <td>2012-10-01 16:00:00</td>\n",
              "      <td>NaN</td>\n",
              "      <td>1024.0</td>\n",
              "      <td>1009.0</td>\n",
              "      <td>1028.0</td>\n",
              "      <td>1013.0</td>\n",
              "      <td>1013.0</td>\n",
              "      <td>1018.0</td>\n",
              "      <td>1013.0</td>\n",
              "      <td>1024.0</td>\n",
              "      <td>1028.0</td>\n",
              "      <td>1014.0</td>\n",
              "      <td>1011.0</td>\n",
              "      <td>1008.0</td>\n",
              "      <td>1011.0</td>\n",
              "      <td>1012.0</td>\n",
              "      <td>1010.0</td>\n",
              "      <td>1014.0</td>\n",
              "      <td>1004.0</td>\n",
              "      <td>1011.0</td>\n",
              "      <td>1006.0</td>\n",
              "      <td>1015.0</td>\n",
              "      <td>1009.0</td>\n",
              "      <td>1012.0</td>\n",
              "      <td>1011.0</td>\n",
              "      <td>1015.0</td>\n",
              "      <td>1010.0</td>\n",
              "      <td>1014.0</td>\n",
              "      <td>1012.0</td>\n",
              "      <td>904.0</td>\n",
              "      <td>1014.0</td>\n",
              "      <td>984.0</td>\n",
              "      <td>1012.0</td>\n",
              "      <td>1010.0</td>\n",
              "      <td>1013.0</td>\n",
              "      <td>1013.0</td>\n",
              "      <td>990.0</td>\n",
              "    </tr>\n",
              "  </tbody>\n",
              "</table>\n",
              "</div>"
            ],
            "text/plain": [
              "              datetime  Vancouver  Portland  ...   Haifa  Nahariyya  Jerusalem\n",
              "0  2012-10-01 12:00:00        NaN       NaN  ...     NaN        NaN        NaN\n",
              "1  2012-10-01 13:00:00        NaN    1024.0  ...  1013.0     1013.0      990.0\n",
              "2  2012-10-01 14:00:00        NaN    1024.0  ...  1013.0     1013.0      990.0\n",
              "3  2012-10-01 15:00:00        NaN    1024.0  ...  1013.0     1013.0      990.0\n",
              "4  2012-10-01 16:00:00        NaN    1024.0  ...  1013.0     1013.0      990.0\n",
              "\n",
              "[5 rows x 37 columns]"
            ]
          },
          "metadata": {
            "tags": []
          },
          "execution_count": 95
        }
      ]
    },
    {
      "cell_type": "code",
      "metadata": {
        "colab": {
          "base_uri": "https://localhost:8080/",
          "height": 202
        },
        "id": "cLBg0_fmMEvY",
        "outputId": "d5798209-d124-4a7b-9f31-2fe2d5f48702"
      },
      "source": [
        "city = ['New York']\n",
        "df = pd.read_csv(\"pressure.csv\",usecols=city)\n",
        "df.head()"
      ],
      "execution_count": 97,
      "outputs": [
        {
          "output_type": "execute_result",
          "data": {
            "text/html": [
              "<div>\n",
              "<style scoped>\n",
              "    .dataframe tbody tr th:only-of-type {\n",
              "        vertical-align: middle;\n",
              "    }\n",
              "\n",
              "    .dataframe tbody tr th {\n",
              "        vertical-align: top;\n",
              "    }\n",
              "\n",
              "    .dataframe thead th {\n",
              "        text-align: right;\n",
              "    }\n",
              "</style>\n",
              "<table border=\"1\" class=\"dataframe\">\n",
              "  <thead>\n",
              "    <tr style=\"text-align: right;\">\n",
              "      <th></th>\n",
              "      <th>New York</th>\n",
              "    </tr>\n",
              "  </thead>\n",
              "  <tbody>\n",
              "    <tr>\n",
              "      <th>0</th>\n",
              "      <td>NaN</td>\n",
              "    </tr>\n",
              "    <tr>\n",
              "      <th>1</th>\n",
              "      <td>1012.0</td>\n",
              "    </tr>\n",
              "    <tr>\n",
              "      <th>2</th>\n",
              "      <td>1012.0</td>\n",
              "    </tr>\n",
              "    <tr>\n",
              "      <th>3</th>\n",
              "      <td>1012.0</td>\n",
              "    </tr>\n",
              "    <tr>\n",
              "      <th>4</th>\n",
              "      <td>1012.0</td>\n",
              "    </tr>\n",
              "  </tbody>\n",
              "</table>\n",
              "</div>"
            ],
            "text/plain": [
              "   New York\n",
              "0       NaN\n",
              "1    1012.0\n",
              "2    1012.0\n",
              "3    1012.0\n",
              "4    1012.0"
            ]
          },
          "metadata": {
            "tags": []
          },
          "execution_count": 97
        }
      ]
    },
    {
      "cell_type": "code",
      "metadata": {
        "colab": {
          "base_uri": "https://localhost:8080/",
          "height": 463
        },
        "id": "laz_tueJMLWq",
        "outputId": "e67a657a-88f2-40b9-de43-060c473be6b8"
      },
      "source": [
        "hist = df.hist(density=True,bins=80)\n",
        "plt.show()"
      ],
      "execution_count": 98,
      "outputs": [
        {
          "output_type": "display_data",
          "data": {
            "image/png": "[encoded data removed]",
            "text/plain": [
              "<Figure size 748.8x514.8 with 1 Axes>"
            ]
          },
          "metadata": {
            "tags": [],
            "needs_background": "light"
          }
        }
      ]
    },
    {
      "cell_type": "code",
      "metadata": {
        "colab": {
          "base_uri": "https://localhost:8080/",
          "height": 463
        },
        "id": "QKWoOJ-pMPuj",
        "outputId": "0e5c307a-e725-4ae2-83fd-ae07fa2cf3a5"
      },
      "source": [
        "from scipy.stats import norm\n",
        "hist = df.hist(density=True,bins=80)\n",
        "\n",
        "step=0.1\n",
        "x = np.arange(950, 1080, step)\n",
        "m=1018\n",
        "sig=7\n",
        "P_norm = norm.pdf(x, m, sig)\n",
        "\n",
        "plt.plot(x, P_norm, 'r', linewidth=3.0)\n",
        "plt.show()"
      ],
      "execution_count": 100,
      "outputs": [
        {
          "output_type": "display_data",
          "data": {
            "image/png": "[encoded data removed]",
            "text/plain": [
              "<Figure size 748.8x514.8 with 1 Axes>"
            ]
          },
          "metadata": {
            "tags": [],
            "needs_background": "light"
          }
        }
      ]
    }
  ]
}