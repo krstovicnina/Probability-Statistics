{
  "nbformat": 4,
  "nbformat_minor": 0,
  "metadata": {
    "colab": {
      "name": "NinaKrstovic2018230089MT2.ipynb",
      "provenance": []
    },
    "kernelspec": {
      "name": "python3",
      "display_name": "Python 3"
    },
    "language_info": {
      "name": "python"
    }
  },
  "cells": [
    {
      "cell_type": "code",
      "metadata": {
        "id": "KrFcU-eV2z1t"
      },
      "source": [
        "import numpy as np\n",
        "import pandas as pd\n",
        "import matplotlib.pyplot as plt\n",
        "from scipy import stats\n",
        "from math import factorial"
      ],
      "execution_count": 20,
      "outputs": []
    },
    {
      "cell_type": "code",
      "metadata": {
        "colab": {
          "base_uri": "https://localhost:8080/"
        },
        "id": "jlhhKTN1Om_t",
        "outputId": "f9cbffb3-403f-4f44-9560-19b7d72d9df1"
      },
      "source": [
        "alpha = (0 + 8 + 9) % 6\n",
        "alpha"
      ],
      "execution_count": 21,
      "outputs": [
        {
          "output_type": "execute_result",
          "data": {
            "text/plain": [
              "5"
            ]
          },
          "metadata": {
            "tags": []
          },
          "execution_count": 21
        }
      ]
    },
    {
      "cell_type": "code",
      "metadata": {
        "colab": {
          "base_uri": "https://localhost:8080/"
        },
        "id": "31ISl0XaOqsl",
        "outputId": "dc6b7fdb-dd09-4382-b59e-406ea652aae9"
      },
      "source": [
        "#a\n",
        "PP=np.array([[1/20, 1/60, 1/30],[1/10, 1/30, 1/15],[1/10, 3/20, 0],[1/5, 1/15, 2/15]])\n",
        "\n",
        "PP_2_2=1-PP.sum(axis=(0,1))  \n",
        "PP_2_2"
      ],
      "execution_count": 22,
      "outputs": [
        {
          "output_type": "execute_result",
          "data": {
            "text/plain": [
              "0.050000000000000044"
            ]
          },
          "metadata": {
            "tags": []
          },
          "execution_count": 22
        }
      ]
    },
    {
      "cell_type": "code",
      "metadata": {
        "colab": {
          "base_uri": "https://localhost:8080/"
        },
        "id": "2XV37M5BOtNe",
        "outputId": "293d56bb-3fd6-4f20-82b7-b26c1e4d8458"
      },
      "source": [
        "PP[2,2]=PP_2_2   \n",
        "PP"
      ],
      "execution_count": 23,
      "outputs": [
        {
          "output_type": "execute_result",
          "data": {
            "text/plain": [
              "array([[0.05      , 0.01666667, 0.03333333],\n",
              "       [0.1       , 0.03333333, 0.06666667],\n",
              "       [0.1       , 0.15      , 0.05      ],\n",
              "       [0.2       , 0.06666667, 0.13333333]])"
            ]
          },
          "metadata": {
            "tags": []
          },
          "execution_count": 23
        }
      ]
    },
    {
      "cell_type": "code",
      "metadata": {
        "colab": {
          "base_uri": "https://localhost:8080/"
        },
        "id": "DIOg-N_GOxXM",
        "outputId": "73ab2f0c-bd3e-4527-b5d5-5869da7039d1"
      },
      "source": [
        "#b)\n",
        "Px = PP.sum(axis=1)\n",
        "Py = PP.sum(axis=0)\n",
        "\n",
        "print(Px)\n",
        "print(Py)"
      ],
      "execution_count": 24,
      "outputs": [
        {
          "output_type": "stream",
          "text": [
            "[0.1 0.2 0.3 0.4]\n",
            "[0.45       0.26666667 0.28333333]\n"
          ],
          "name": "stdout"
        }
      ]
    },
    {
      "cell_type": "code",
      "metadata": {
        "colab": {
          "base_uri": "https://localhost:8080/"
        },
        "id": "fW-8jDtGO9rn",
        "outputId": "96dbfe6e-4b88-4025-9966-3bc8b6da541f"
      },
      "source": [
        "#c\n",
        "np.outer(Px, Py) - PP #It's not independant, because numbers are not zero"
      ],
      "execution_count": 25,
      "outputs": [
        {
          "output_type": "execute_result",
          "data": {
            "text/plain": [
              "array([[-0.005,  0.01 , -0.005],\n",
              "       [-0.01 ,  0.02 , -0.01 ],\n",
              "       [ 0.035, -0.07 ,  0.035],\n",
              "       [-0.02 ,  0.04 , -0.02 ]])"
            ]
          },
          "metadata": {
            "tags": []
          },
          "execution_count": 25
        }
      ]
    },
    {
      "cell_type": "code",
      "metadata": {
        "colab": {
          "base_uri": "https://localhost:8080/"
        },
        "id": "qqF-Wtd0O9wg",
        "outputId": "0da1f84e-ba2d-4187-cc1a-d581b9ed1668"
      },
      "source": [
        "#d \n",
        "#expectation\n",
        "x=np.array([-(alpha+1), 0, 5*(alpha+1), 10*(alpha+1)])\n",
        "y=np.array([10*(alpha+1), 0, 20*(alpha+1)])\n",
        "Ex=np.dot(Px,x)\n",
        "Ey=np.dot(Py,y)\n",
        "Ex,Ey"
      ],
      "execution_count": 26,
      "outputs": [
        {
          "output_type": "execute_result",
          "data": {
            "text/plain": [
              "(32.400000000000006, 61.00000000000001)"
            ]
          },
          "metadata": {
            "tags": []
          },
          "execution_count": 26
        }
      ]
    },
    {
      "cell_type": "code",
      "metadata": {
        "colab": {
          "base_uri": "https://localhost:8080/"
        },
        "id": "wyoJ8pgbPSxu",
        "outputId": "8e4477d6-5c57-47ba-e12a-7cf4c84b4340"
      },
      "source": [
        "#variance\n",
        "Ex2=np.dot(Px,x**2)\n",
        "Ey2=np.dot(Py,y**2)\n",
        "varX= Ex2-Ex**2\n",
        "varY= Ey2-Ey**2\n",
        "varX,varY"
      ],
      "execution_count": 27,
      "outputs": [
        {
          "output_type": "execute_result",
          "data": {
            "text/plain": [
              "(663.8399999999997, 1979.0)"
            ]
          },
          "metadata": {
            "tags": []
          },
          "execution_count": 27
        }
      ]
    },
    {
      "cell_type": "code",
      "metadata": {
        "colab": {
          "base_uri": "https://localhost:8080/"
        },
        "id": "WYVrm49EPS3d",
        "outputId": "9b6376a7-606b-4fa6-a634-486c2febe160"
      },
      "source": [
        "#coveriance\n",
        "nx=x-Ex \n",
        "ny=y-Ey\n",
        "\n",
        "cov=0\n",
        "for i in range(len(x)):\n",
        "    for j in range(len(y)):\n",
        "        cov+=PP[i,j]*nx[i]*ny[j]\n",
        "cov"
      ],
      "execution_count": 28,
      "outputs": [
        {
          "output_type": "execute_result",
          "data": {
            "text/plain": [
              "21.599999999999994"
            ]
          },
          "metadata": {
            "tags": []
          },
          "execution_count": 28
        }
      ]
    },
    {
      "cell_type": "code",
      "metadata": {
        "colab": {
          "base_uri": "https://localhost:8080/"
        },
        "id": "9dC46gUJPkAR",
        "outputId": "010c54bb-c9b3-473a-dd62-f6180f64379f"
      },
      "source": [
        "# Standard Deviation\n",
        "Ex2=np.dot(Px,x**2)\n",
        "Ey2=np.dot(Py,y**2)\n",
        "stdX= np.sqrt(Ex2-Ex**2)\n",
        "stdY= np.sqrt(Ey2-Ey**2)\n",
        "stdX,stdY"
      ],
      "execution_count": 29,
      "outputs": [
        {
          "output_type": "execute_result",
          "data": {
            "text/plain": [
              "(25.76509266430066, 44.48595283907045)"
            ]
          },
          "metadata": {
            "tags": []
          },
          "execution_count": 29
        }
      ]
    },
    {
      "cell_type": "code",
      "metadata": {
        "colab": {
          "base_uri": "https://localhost:8080/"
        },
        "id": "ptwb8hVJPpSk",
        "outputId": "99844892-20da-458d-dcff-253784a3a954"
      },
      "source": [
        "# Correlation coefficient\n",
        "cov/(stdX*stdY)"
      ],
      "execution_count": 30,
      "outputs": [
        {
          "output_type": "execute_result",
          "data": {
            "text/plain": [
              "0.018845130329824756"
            ]
          },
          "metadata": {
            "tags": []
          },
          "execution_count": 30
        }
      ]
    },
    {
      "cell_type": "code",
      "metadata": {
        "colab": {
          "base_uri": "https://localhost:8080/"
        },
        "id": "hXkEXVeAPrW5",
        "outputId": "3b978aed-0328-4ed7-b359-5c06994324b2"
      },
      "source": [
        "#e\n",
        "quantile_index=[i for i in np.arange(0,len(Px)) if (np.sum(Px[:i+1]) >= 0.75) and (np.sum(Px[i:]) >= float(1-0.75))]\n",
        "\n",
        "third=np.mean(x[quantile_index])\n",
        "third"
      ],
      "execution_count": 31,
      "outputs": [
        {
          "output_type": "execute_result",
          "data": {
            "text/plain": [
              "60.0"
            ]
          },
          "metadata": {
            "tags": []
          },
          "execution_count": 31
        }
      ]
    },
    {
      "cell_type": "code",
      "metadata": {
        "id": "vN2_A9zEPw4P"
      },
      "source": [
        "#f"
      ],
      "execution_count": 32,
      "outputs": []
    },
    {
      "cell_type": "code",
      "metadata": {
        "colab": {
          "base_uri": "https://localhost:8080/"
        },
        "id": "9Q80OZHhQoby",
        "outputId": "a6a8384d-ae1d-4575-cf7a-9648d9725652"
      },
      "source": [
        "#2.\n",
        "from scipy.stats import binom \n",
        "\n",
        "n = 10\n",
        "p = 0.2\n",
        "\n",
        "r_values = list(range(n + 1)) \n",
        "\n",
        "mean, var = binom.stats(n, p)\n",
        "median = np.median(binom.stats(n, p))\n",
        "\n",
        "P_exp = [binom.pmf(r, n, p) for r in r_values] \n",
        "\n",
        "for i in range(n + 1): \n",
        "\tprint(str(r_values[i]) + \"\\t\" + str(P_exp[i])) \n",
        "# printing mean and variance \n",
        "print(\"mean = \"+str(mean)) \n",
        "print(\"median = \"+str(median))\n",
        "print(\"variance = \"+str(var))"
      ],
      "execution_count": 36,
      "outputs": [
        {
          "output_type": "stream",
          "text": [
            "0\t0.1073741824\n",
            "1\t0.2684354560000003\n",
            "2\t0.301989888\n",
            "3\t0.20132659200000022\n",
            "4\t0.08808038400000008\n",
            "5\t0.02642411520000004\n",
            "6\t0.00550502400000001\n",
            "7\t0.0007864320000000006\n",
            "8\t7.372800000000005e-05\n",
            "9\t4.096000000000007e-06\n",
            "10\t1.0240000000000004e-07\n",
            "mean = 2.0\n",
            "median = 1.8\n",
            "variance = 1.6\n"
          ],
          "name": "stdout"
        }
      ]
    },
    {
      "cell_type": "code",
      "metadata": {
        "colab": {
          "base_uri": "https://localhost:8080/"
        },
        "id": "PkLoGGTVRPFO",
        "outputId": "4a4c6ba0-a52b-4075-da47-632cef1f1e74"
      },
      "source": [
        "k=np.arange(alpha+10+1)\n",
        "\n",
        "E_exp=np.sum(np.array([z*k for k,z in zip(k,P_exp)]))\n",
        "E_exp"
      ],
      "execution_count": 37,
      "outputs": [
        {
          "output_type": "execute_result",
          "data": {
            "text/plain": [
              "2.0000000000000013"
            ]
          },
          "metadata": {
            "tags": []
          },
          "execution_count": 37
        }
      ]
    },
    {
      "cell_type": "code",
      "metadata": {
        "colab": {
          "base_uri": "https://localhost:8080/"
        },
        "id": "j-FVQfkZRdPD",
        "outputId": "c88ef599-1097-400a-c0b6-a300aea51bf9"
      },
      "source": [
        "#d)\n",
        "quant_index=[i for i in np.arange(0,len(P_exp)) if (np.sum(P_exp[:i+1]) >= 0.6) and  (np.sum(P_exp[i:]) >= (1-0.6))]\n",
        "quant=np.mean(k[quant_index])\n",
        "quant"
      ],
      "execution_count": 38,
      "outputs": [
        {
          "output_type": "execute_result",
          "data": {
            "text/plain": [
              "2.0"
            ]
          },
          "metadata": {
            "tags": []
          },
          "execution_count": 38
        }
      ]
    },
    {
      "cell_type": "code",
      "metadata": {
        "id": "PjeGlmXYRj5s"
      },
      "source": [
        "#3\n",
        "#a)\n",
        "attribute=[\"New York\"]\n",
        "\n",
        "df1 = pd.read_csv('humidity.csv', usecols=attribute)\n",
        "df2 = pd.read_csv('pressure.csv', usecols=attribute)"
      ],
      "execution_count": 40,
      "outputs": []
    },
    {
      "cell_type": "code",
      "metadata": {
        "colab": {
          "base_uri": "https://localhost:8080/",
          "height": 204
        },
        "id": "e7WWUhYwSA6o",
        "outputId": "01cbd968-6af9-4d1d-fd27-2d1b784cc144"
      },
      "source": [
        "df = pd.concat([df1, df2], axis=1)\n",
        "df.columns = [\"Hum\", \"Press\"]\n",
        "df.head()"
      ],
      "execution_count": 41,
      "outputs": [
        {
          "output_type": "execute_result",
          "data": {
            "text/html": [
              "<div>\n",
              "<style scoped>\n",
              "    .dataframe tbody tr th:only-of-type {\n",
              "        vertical-align: middle;\n",
              "    }\n",
              "\n",
              "    .dataframe tbody tr th {\n",
              "        vertical-align: top;\n",
              "    }\n",
              "\n",
              "    .dataframe thead th {\n",
              "        text-align: right;\n",
              "    }\n",
              "</style>\n",
              "<table border=\"1\" class=\"dataframe\">\n",
              "  <thead>\n",
              "    <tr style=\"text-align: right;\">\n",
              "      <th></th>\n",
              "      <th>Hum</th>\n",
              "      <th>Press</th>\n",
              "    </tr>\n",
              "  </thead>\n",
              "  <tbody>\n",
              "    <tr>\n",
              "      <th>0</th>\n",
              "      <td>NaN</td>\n",
              "      <td>NaN</td>\n",
              "    </tr>\n",
              "    <tr>\n",
              "      <th>1</th>\n",
              "      <td>58.0</td>\n",
              "      <td>1012.0</td>\n",
              "    </tr>\n",
              "    <tr>\n",
              "      <th>2</th>\n",
              "      <td>57.0</td>\n",
              "      <td>1012.0</td>\n",
              "    </tr>\n",
              "    <tr>\n",
              "      <th>3</th>\n",
              "      <td>57.0</td>\n",
              "      <td>1012.0</td>\n",
              "    </tr>\n",
              "    <tr>\n",
              "      <th>4</th>\n",
              "      <td>57.0</td>\n",
              "      <td>1012.0</td>\n",
              "    </tr>\n",
              "  </tbody>\n",
              "</table>\n",
              "</div>"
            ],
            "text/plain": [
              "    Hum   Press\n",
              "0   NaN     NaN\n",
              "1  58.0  1012.0\n",
              "2  57.0  1012.0\n",
              "3  57.0  1012.0\n",
              "4  57.0  1012.0"
            ]
          },
          "metadata": {
            "tags": []
          },
          "execution_count": 41
        }
      ]
    },
    {
      "cell_type": "code",
      "metadata": {
        "colab": {
          "base_uri": "https://localhost:8080/",
          "height": 297
        },
        "id": "QOamlKSDSGPs",
        "outputId": "f91bb7cf-803b-4e5e-815b-0bcc67be9a75"
      },
      "source": [
        "df.dropna().describe()"
      ],
      "execution_count": 42,
      "outputs": [
        {
          "output_type": "execute_result",
          "data": {
            "text/html": [
              "<div>\n",
              "<style scoped>\n",
              "    .dataframe tbody tr th:only-of-type {\n",
              "        vertical-align: middle;\n",
              "    }\n",
              "\n",
              "    .dataframe tbody tr th {\n",
              "        vertical-align: top;\n",
              "    }\n",
              "\n",
              "    .dataframe thead th {\n",
              "        text-align: right;\n",
              "    }\n",
              "</style>\n",
              "<table border=\"1\" class=\"dataframe\">\n",
              "  <thead>\n",
              "    <tr style=\"text-align: right;\">\n",
              "      <th></th>\n",
              "      <th>Hum</th>\n",
              "      <th>Press</th>\n",
              "    </tr>\n",
              "  </thead>\n",
              "  <tbody>\n",
              "    <tr>\n",
              "      <th>count</th>\n",
              "      <td>18706.000000</td>\n",
              "      <td>18706.000000</td>\n",
              "    </tr>\n",
              "    <tr>\n",
              "      <th>mean</th>\n",
              "      <td>65.923607</td>\n",
              "      <td>1015.300919</td>\n",
              "    </tr>\n",
              "    <tr>\n",
              "      <th>std</th>\n",
              "      <td>19.434199</td>\n",
              "      <td>11.625749</td>\n",
              "    </tr>\n",
              "    <tr>\n",
              "      <th>min</th>\n",
              "      <td>10.000000</td>\n",
              "      <td>959.000000</td>\n",
              "    </tr>\n",
              "    <tr>\n",
              "      <th>25%</th>\n",
              "      <td>51.000000</td>\n",
              "      <td>1011.000000</td>\n",
              "    </tr>\n",
              "    <tr>\n",
              "      <th>50%</th>\n",
              "      <td>67.000000</td>\n",
              "      <td>1017.000000</td>\n",
              "    </tr>\n",
              "    <tr>\n",
              "      <th>75%</th>\n",
              "      <td>81.000000</td>\n",
              "      <td>1022.000000</td>\n",
              "    </tr>\n",
              "    <tr>\n",
              "      <th>max</th>\n",
              "      <td>100.000000</td>\n",
              "      <td>1051.000000</td>\n",
              "    </tr>\n",
              "  </tbody>\n",
              "</table>\n",
              "</div>"
            ],
            "text/plain": [
              "                Hum         Press\n",
              "count  18706.000000  18706.000000\n",
              "mean      65.923607   1015.300919\n",
              "std       19.434199     11.625749\n",
              "min       10.000000    959.000000\n",
              "25%       51.000000   1011.000000\n",
              "50%       67.000000   1017.000000\n",
              "75%       81.000000   1022.000000\n",
              "max      100.000000   1051.000000"
            ]
          },
          "metadata": {
            "tags": []
          },
          "execution_count": 42
        }
      ]
    },
    {
      "cell_type": "code",
      "metadata": {
        "colab": {
          "base_uri": "https://localhost:8080/"
        },
        "id": "5RMrc0ZtSIeA",
        "outputId": "dfe8c4e7-34bd-4099-cfec-e594ad1d9462"
      },
      "source": [
        "df.quantile(0.7)"
      ],
      "execution_count": 43,
      "outputs": [
        {
          "output_type": "execute_result",
          "data": {
            "text/plain": [
              "Hum        80.0\n",
              "Press    1021.0\n",
              "Name: 0.7, dtype: float64"
            ]
          },
          "metadata": {
            "tags": []
          },
          "execution_count": 43
        }
      ]
    },
    {
      "cell_type": "code",
      "metadata": {
        "colab": {
          "base_uri": "https://localhost:8080/"
        },
        "id": "GtZBesF9SlC4",
        "outputId": "96133975-5a60-4869-d08d-92b52be5a955"
      },
      "source": [
        "#b\n",
        "\n",
        "df.cov()['Hum']['Press']/(df.std()['Hum']*df.std()['Press'])"
      ],
      "execution_count": 45,
      "outputs": [
        {
          "output_type": "execute_result",
          "data": {
            "text/plain": [
              "-0.12489342229417516"
            ]
          },
          "metadata": {
            "tags": []
          },
          "execution_count": 45
        }
      ]
    },
    {
      "cell_type": "code",
      "metadata": {
        "colab": {
          "base_uri": "https://localhost:8080/",
          "height": 111
        },
        "id": "6MN3vumgSzt5",
        "outputId": "70fc438d-a913-4d0f-ee22-64e5186e1db1"
      },
      "source": [
        "df.corr()"
      ],
      "execution_count": 47,
      "outputs": [
        {
          "output_type": "execute_result",
          "data": {
            "text/html": [
              "<div>\n",
              "<style scoped>\n",
              "    .dataframe tbody tr th:only-of-type {\n",
              "        vertical-align: middle;\n",
              "    }\n",
              "\n",
              "    .dataframe tbody tr th {\n",
              "        vertical-align: top;\n",
              "    }\n",
              "\n",
              "    .dataframe thead th {\n",
              "        text-align: right;\n",
              "    }\n",
              "</style>\n",
              "<table border=\"1\" class=\"dataframe\">\n",
              "  <thead>\n",
              "    <tr style=\"text-align: right;\">\n",
              "      <th></th>\n",
              "      <th>Hum</th>\n",
              "      <th>Press</th>\n",
              "    </tr>\n",
              "  </thead>\n",
              "  <tbody>\n",
              "    <tr>\n",
              "      <th>Hum</th>\n",
              "      <td>1.000000</td>\n",
              "      <td>-0.122679</td>\n",
              "    </tr>\n",
              "    <tr>\n",
              "      <th>Press</th>\n",
              "      <td>-0.122679</td>\n",
              "      <td>1.000000</td>\n",
              "    </tr>\n",
              "  </tbody>\n",
              "</table>\n",
              "</div>"
            ],
            "text/plain": [
              "            Hum     Press\n",
              "Hum    1.000000 -0.122679\n",
              "Press -0.122679  1.000000"
            ]
          },
          "metadata": {
            "tags": []
          },
          "execution_count": 47
        }
      ]
    },
    {
      "cell_type": "code",
      "metadata": {
        "colab": {
          "base_uri": "https://localhost:8080/"
        },
        "id": "QOSq-SA1S21L",
        "outputId": "771dbae0-6a8c-4371-fe8f-879257f96a7d"
      },
      "source": [
        "alpha1 = 0.01\n",
        "order=1-alpha1/2\n",
        "sample_size = 200\n",
        "Quant = stats.t.ppf(order, df=sample_size-1)\n",
        "sample_of_means = []\n",
        "\n",
        "CIs = []\n",
        "for i in range(70):\n",
        "\n",
        "    generated_sample=df['Hum'].sample(sample_size)\n",
        "    sample_of_means.append(generated_sample.mean())\n",
        "\n",
        "    margin = Quant * (generated_sample.std()/sample_size**0.5)\n",
        "    CI_MO = (generated_sample.mean() - margin, generated_sample.mean() + margin)\n",
        "    CIs.append(CI_MO)\n",
        "\n",
        "print(df['Hum'].mean())\n",
        "CIs"
      ],
      "execution_count": 48,
      "outputs": [
        {
          "output_type": "stream",
          "text": [
            "67.22317562780445\n"
          ],
          "name": "stdout"
        },
        {
          "output_type": "execute_result",
          "data": {
            "text/plain": [
              "[(64.2150154736456, 71.8478117514853),\n",
              " (63.623803542789, 70.94029902131356),\n",
              " (61.34551335719701, 68.89532433913809),\n",
              " (63.76040682714535, 70.82420855747002),\n",
              " (66.18125843476655, 72.91617746266935),\n",
              " (64.20961729930235, 71.66339857371352),\n",
              " (60.22472712800482, 67.67270876943108),\n",
              " (63.09257232715909, 70.1374276728409),\n",
              " (64.10461622654681, 71.0891010509401),\n",
              " (63.21946864605737, 70.11386468727596),\n",
              " (62.51978206419647, 69.25572813988516),\n",
              " (64.91426386841859, 72.11137715722244),\n",
              " (64.76841325658694, 71.93865745048376),\n",
              " (63.999052736378296, 71.03187509867325),\n",
              " (64.02037131293022, 71.10207766666161),\n",
              " (62.91923295279965, 70.03995072066975),\n",
              " (62.789134876735915, 69.58199914388265),\n",
              " (62.36730532039509, 69.35290193349091),\n",
              " (64.54141257185799, 71.40730537685997),\n",
              " (63.96097221067317, 71.05922980952884),\n",
              " (65.35219853293444, 72.22293100074432),\n",
              " (64.96018063582325, 71.88518018891902),\n",
              " (64.51182082119921, 71.30067917880079),\n",
              " (67.5273514566963, 74.72775058412003),\n",
              " (63.2311111814045, 70.02399085941182),\n",
              " (66.66558502257529, 73.80073622094802),\n",
              " (62.9424746715608, 70.1447048156187),\n",
              " (64.44232399985485, 71.13716317963234),\n",
              " (63.66065817619582, 70.62059182380418),\n",
              " (65.3018284043804, 72.1369471058237),\n",
              " (65.25518616682082, 72.15106383317918),\n",
              " (65.87768987536782, 72.43319095364771),\n",
              " (65.26127409333583, 71.98224922272635),\n",
              " (62.92118821650313, 69.70767776287829),\n",
              " (63.781808189356745, 70.74450760011692),\n",
              " (64.76438603179803, 71.90228063486863),\n",
              " (63.27565190269067, 70.02331716947427),\n",
              " (64.0836454573686, 70.988519491085),\n",
              " (62.478604861278264, 69.38597847205507),\n",
              " (61.06833139327752, 68.88038655544044),\n",
              " (64.09673327790196, 71.49510345679192),\n",
              " (63.593698967754264, 70.41661031059625),\n",
              " (63.76336818966236, 71.02234609605192),\n",
              " (62.9287420716898, 69.69689895395122),\n",
              " (63.44524029230163, 70.78826224576945),\n",
              " (64.93254542963062, 71.56491649930338),\n",
              " (62.96077570667842, 70.03922429332158),\n",
              " (61.97656573326582, 68.97135093340083),\n",
              " (64.95867244439387, 72.05163683395665),\n",
              " (62.79932906153374, 69.71375994370186),\n",
              " (61.81503029687306, 68.84823500924938),\n",
              " (62.762194751915196, 70.21718669138377),\n",
              " (61.358608251431896, 68.36446867164501),\n",
              " (65.46240145560249, 72.29676084806242),\n",
              " (65.74124627774754, 72.51516397866271),\n",
              " (61.663905019722776, 69.05690716301835),\n",
              " (66.48554237189238, 73.42214993579994),\n",
              " (63.84477185764017, 70.79808528521697),\n",
              " (63.72078878462944, 70.82560296794786),\n",
              " (64.2391464086278, 71.09418692470554),\n",
              " (67.31729718456265, 73.54280644238037),\n",
              " (65.38817779837167, 72.46969022193291),\n",
              " (63.37990902157154, 70.75274403965295),\n",
              " (65.21355546895718, 72.06393144203757),\n",
              " (65.33188260062684, 72.3517908687609),\n",
              " (65.35585881754662, 72.15683153778332),\n",
              " (62.73268008976228, 69.58145603589216),\n",
              " (63.50568654043192, 71.13305691506547),\n",
              " (64.89653229588998, 71.98767823042581),\n",
              " (65.6305438057577, 72.30760052413922)]"
            ]
          },
          "metadata": {
            "tags": []
          },
          "execution_count": 48
        }
      ]
    },
    {
      "cell_type": "code",
      "metadata": {
        "colab": {
          "base_uri": "https://localhost:8080/",
          "height": 537
        },
        "id": "S-4WIWYfTSUp",
        "outputId": "2d937014-4a09-4878-bbfa-e2dd515e9c7f"
      },
      "source": [
        "plt.figure(figsize=(9,9))\n",
        "\n",
        "plt.errorbar(x=np.arange(0, 70), \n",
        "             y=sample_of_means[0:70], \n",
        "             yerr=[(up-down)/2 for up,down in CIs],\n",
        "             fmt='o')\n",
        "\n",
        "plt.hlines(xmin=0, xmax=70,\n",
        "           y=df.mean()['Hum'], \n",
        "           linewidth=2.0,\n",
        "           color=\"red\")\n",
        "\n",
        "plt.show()"
      ],
      "execution_count": 49,
      "outputs": [
        {
          "output_type": "display_data",
          "data": {
            "image/png": "[encoded data removed]",
            "text/plain": [
              "<Figure size 648x648 with 1 Axes>"
            ]
          },
          "metadata": {
            "tags": [],
            "needs_background": "light"
          }
        }
      ]
    },
    {
      "cell_type": "code",
      "metadata": {
        "colab": {
          "base_uri": "https://localhost:8080/",
          "height": 387
        },
        "id": "iKHalFD4TVHV",
        "outputId": "18a37f84-dc13-4506-ec8b-d9c46538d5c5"
      },
      "source": [
        "#4\n",
        "#a\n",
        "n=15000\n",
        "k = range(1,n+1)\n",
        "y = np.random.standard_t(alpha+10, size=n)\n",
        "m = [np.var(y[0:i], ddof=1) for i in range(1,n+1)] \n",
        "plt.plot(k, m, k, [1.25]*n,'r')\n"
      ],
      "execution_count": 57,
      "outputs": [
        {
          "output_type": "stream",
          "text": [
            "/usr/local/lib/python3.7/dist-packages/numpy/core/fromnumeric.py:3622: RuntimeWarning: Degrees of freedom <= 0 for slice\n",
            "  **kwargs)\n",
            "/usr/local/lib/python3.7/dist-packages/numpy/core/_methods.py:226: RuntimeWarning: invalid value encountered in double_scalars\n",
            "  ret = ret.dtype.type(ret / rcount)\n"
          ],
          "name": "stderr"
        },
        {
          "output_type": "execute_result",
          "data": {
            "text/plain": [
              "[<matplotlib.lines.Line2D at 0x7f78f9772d90>,\n",
              " <matplotlib.lines.Line2D at 0x7f78f9772f90>]"
            ]
          },
          "metadata": {
            "tags": []
          },
          "execution_count": 57
        },
        {
          "output_type": "display_data",
          "data": {
            "image/png": "[encoded data removed]",
            "text/plain": [
              "<Figure size 432x288 with 1 Axes>"
            ]
          },
          "metadata": {
            "tags": [],
            "needs_background": "light"
          }
        }
      ]
    },
    {
      "cell_type": "code",
      "metadata": {
        "colab": {
          "base_uri": "https://localhost:8080/",
          "height": 265
        },
        "id": "WNimxTqsTgE-",
        "outputId": "a0e799ca-b0d5-4662-b764-e3c626535012"
      },
      "source": [
        "#b\n",
        "number_of_samples = 50 * (alpha + 1)\n",
        "number_of_samples_of_means=15000 \n",
        "\n",
        "xs= np.random.standard_t(alpha+10, size=(number_of_samples,number_of_samples_of_means))\n",
        "\n",
        "samples_of_means = np.mean(xs,axis=0) \n",
        "plt.plot(samples_of_means)\n",
        "plt.show()"
      ],
      "execution_count": 64,
      "outputs": [
        {
          "output_type": "display_data",
          "data": {
            "image/png": "[encoded data removed]",
            "text/plain": [
              "<Figure size 432x288 with 1 Axes>"
            ]
          },
          "metadata": {
            "tags": [],
            "needs_background": "light"
          }
        }
      ]
    },
    {
      "cell_type": "code",
      "metadata": {
        "colab": {
          "base_uri": "https://localhost:8080/"
        },
        "id": "JV1URkTlTuU0",
        "outputId": "24cc4bfc-8613-4aea-c2a9-6507bfa449de"
      },
      "source": [
        "r = int(1 + (3.3 * np.log(len(samples_of_means)))) # calculate the numbers of bins\n",
        "r"
      ],
      "execution_count": 65,
      "outputs": [
        {
          "output_type": "execute_result",
          "data": {
            "text/plain": [
              "32"
            ]
          },
          "metadata": {
            "tags": []
          },
          "execution_count": 65
        }
      ]
    },
    {
      "cell_type": "code",
      "metadata": {
        "colab": {
          "base_uri": "https://localhost:8080/",
          "height": 267
        },
        "id": "vbqZWPJETzDg",
        "outputId": "69f1f12e-b8e1-41aa-e138-2103d2f34a65"
      },
      "source": [
        "plt.hist(samples_of_means,bins=r,density=True);\n",
        "\n",
        "x=np.linspace(-0.6,0.6,100)\n",
        "\n",
        "plt.plot(x,stats.norm.pdf(x,loc=0, scale=0.15)) \n",
        "plt.show()\n",
        "plt.show()"
      ],
      "execution_count": 66,
      "outputs": [
        {
          "output_type": "display_data",
          "data": {
            "image/png": "[encoded data removed]",
            "text/plain": [
              "<Figure size 432x288 with 1 Axes>"
            ]
          },
          "metadata": {
            "tags": [],
            "needs_background": "light"
          }
        }
      ]
    }
  ]
}