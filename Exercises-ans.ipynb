{
  "nbformat": 4,
  "nbformat_minor": 0,
  "metadata": {
    "kernelspec": {
      "display_name": "Python 3",
      "language": "python",
      "name": "python3"
    },
    "language_info": {
      "codemirror_mode": {
        "name": "ipython",
        "version": 3
      },
      "file_extension": ".py",
      "mimetype": "text/x-python",
      "name": "python",
      "nbconvert_exporter": "python",
      "pygments_lexer": "ipython3",
      "version": "3.8.5"
    },
    "colab": {
      "name": "Midterm1_exrecises.ipynb",
      "provenance": []
    }
  },
  "cells": [
    {
      "cell_type": "markdown",
      "metadata": {
        "id": "WTdt8vQgTju_"
      },
      "source": [
        "# Problem 1\n",
        "\n",
        "There are 8 red and 6 blue balls in a box. 2 balls are taken randomly (without return). Find statistical and theoretical probabilities that the two balls have different colors."
      ]
    },
    {
      "cell_type": "code",
      "metadata": {
        "colab": {
          "base_uri": "https://localhost:8080/",
          "height": 281
        },
        "id": "_KDQrGY2TjvD",
        "outputId": "cce134cb-0290-401c-a5b5-a418075324b0"
      },
      "source": [
        "import matplotlib.pyplot as plt\n",
        "import numpy as np\n",
        "\n",
        "N=10000\n",
        "P_A = []\n",
        "N_A = 0\n",
        "for i in range(0, N):\n",
        "    index = np.random.choice(14, size=2, replace=False)\n",
        "    if (index[0]<8 and index[1]>7) or (index[0]>7 and index[1]<8):\n",
        "        N_A+=1\n",
        "    P_A.append(N_A / (i+1))\n",
        "    \n",
        "        \n",
        "plt.xlabel('Number of iterations')\n",
        "plt.ylabel('Probability')\n",
        "plt.plot(np.arange(1, N+1), P_A, label = 'Statistical probability')\n",
        "    \n",
        "plt.plot(range(0, N), [52*12*11*10*9*8*7/(52*51*50*49*48*47*46)] * N, 'k', label = 'Theoretical probability')  # 'k' - black color\n",
        "plt.legend()\n",
        "plt.show()"
      ],
      "execution_count": null,
      "outputs": [
        {
          "output_type": "display_data",
          "data": {
            "image/png": "[encoded data removed]",
            "text/plain": [
              "<Figure size 432x288 with 1 Axes>"
            ]
          },
          "metadata": {
            "tags": [],
            "needs_background": "light"
          }
        }
      ]
    },
    {
      "cell_type": "markdown",
      "metadata": {
        "id": "N3xlhsEXTjvF"
      },
      "source": [
        "# Problem 2\n",
        "\n",
        "Find statistical and theoretical probabilities that, out of $n$ coin flips, you got between $k_1$ and $k_2$ heads."
      ]
    },
    {
      "cell_type": "code",
      "metadata": {
        "id": "HsXBk4HjTjvG",
        "outputId": "691e8fcd-c428-404a-f0bd-86b76b22a60b"
      },
      "source": [
        "import matplotlib.pyplot as plt\n",
        "import numpy as np\n",
        "from math import factorial\n",
        "\n",
        "n=15\n",
        "k1=0\n",
        "k2=5\n",
        "\n",
        "N=10000\n",
        "P_A = []\n",
        "N_A = 0\n",
        "for i in range(0, N):\n",
        "    index = np.random.choice(2, size=n, replace=True)\n",
        "    #print(index.sum())\n",
        "    if (index.sum()<k2) and (index.sum()>k1):\n",
        "        N_A+=1\n",
        "        #print(N_A)\n",
        "    P_A.append(N_A / (i+1))\n",
        "    \n",
        "        \n",
        "plt.xlabel('Number of iterations')\n",
        "plt.ylabel('Probability')\n",
        "plt.plot(np.arange(1, N+1), P_A)\n",
        "\n",
        "P_theory=0\n",
        "for i in range(k1+1,k2):\n",
        "    P_theory+=(0.5**n)*(factorial(n)/(factorial(i)*factorial(n-i)))\n",
        "    \n",
        "print(P_theory)  \n",
        "plt.plot(range(0, N), [P_theory] * N, 'k', label = 'Theoretical probability')  # 'k' - black color\n",
        "plt.legend()\n",
        "plt.show()"
      ],
      "execution_count": null,
      "outputs": [
        {
          "output_type": "stream",
          "text": [
            "0.0592041015625\n"
          ],
          "name": "stdout"
        },
        {
          "output_type": "display_data",
          "data": {
            "image/png": "[encoded data removed]",
            "text/plain": [
              "<matplotlib.figure.Figure at 0x281ed648588>"
            ]
          },
          "metadata": {
            "tags": []
          }
        }
      ]
    },
    {
      "cell_type": "markdown",
      "metadata": {
        "id": "Fsov-pLTTjvG"
      },
      "source": [
        "# Problem 3\n",
        "\n",
        "Read the dataset \"student-por.csv\" in Pandas DataFrame format. Based only on the columns \"G3\" and \"school\" statistically estimate:\n",
        "\n",
        "a) Probability that a randomly chosen student is from school \"GP\" and probability that the student is from school \"MS\".\n",
        "\n",
        "b) Probability that a randomly chosen student has high score (\"G3\">=15), probability of mid score (5<\"G3\"<15) and probability of low score (\"G3\"<5).\n",
        "\n",
        "c) Conditional probabilities that a random student has high score, given that she/he is from a particular school: 𝑃(high score|school=′𝐺𝑃′) and 𝑃(high score|school=′𝑀𝑆′).\n",
        "\n",
        "d) Using Bayes equation calculate the probabilities: P(school=′𝐺𝑃′|high schore) and P(school=′MS′|high schore)."
      ]
    },
    {
      "cell_type": "code",
      "metadata": {
        "id": "tXILsSspTjvH",
        "outputId": "dfc63f5a-0034-470b-bd48-b54fe53aaf11"
      },
      "source": [
        "import pandas as pd\n",
        "import matplotlib.pyplot as plt\n",
        "\n",
        "# read data:\n",
        "data_por = pd.read_csv(\"student-por.csv\")\n",
        "data_por.head()  # pick into DataFrame"
      ],
      "execution_count": null,
      "outputs": [
        {
          "output_type": "execute_result",
          "data": {
            "text/html": [
              "<div>\n",
              "<style>\n",
              "    .dataframe thead tr:only-child th {\n",
              "        text-align: right;\n",
              "    }\n",
              "\n",
              "    .dataframe thead th {\n",
              "        text-align: left;\n",
              "    }\n",
              "\n",
              "    .dataframe tbody tr th {\n",
              "        vertical-align: top;\n",
              "    }\n",
              "</style>\n",
              "<table border=\"1\" class=\"dataframe\">\n",
              "  <thead>\n",
              "    <tr style=\"text-align: right;\">\n",
              "      <th></th>\n",
              "      <th>school</th>\n",
              "      <th>sex</th>\n",
              "      <th>age</th>\n",
              "      <th>address</th>\n",
              "      <th>famsize</th>\n",
              "      <th>Pstatus</th>\n",
              "      <th>Medu</th>\n",
              "      <th>Fedu</th>\n",
              "      <th>Mjob</th>\n",
              "      <th>Fjob</th>\n",
              "      <th>...</th>\n",
              "      <th>famrel</th>\n",
              "      <th>freetime</th>\n",
              "      <th>goout</th>\n",
              "      <th>Dalc</th>\n",
              "      <th>Walc</th>\n",
              "      <th>health</th>\n",
              "      <th>absences</th>\n",
              "      <th>G1</th>\n",
              "      <th>G2</th>\n",
              "      <th>G3</th>\n",
              "    </tr>\n",
              "  </thead>\n",
              "  <tbody>\n",
              "    <tr>\n",
              "      <th>0</th>\n",
              "      <td>GP</td>\n",
              "      <td>F</td>\n",
              "      <td>18</td>\n",
              "      <td>U</td>\n",
              "      <td>GT3</td>\n",
              "      <td>A</td>\n",
              "      <td>4</td>\n",
              "      <td>4</td>\n",
              "      <td>at_home</td>\n",
              "      <td>teacher</td>\n",
              "      <td>...</td>\n",
              "      <td>4</td>\n",
              "      <td>3</td>\n",
              "      <td>4</td>\n",
              "      <td>1</td>\n",
              "      <td>1</td>\n",
              "      <td>3</td>\n",
              "      <td>4</td>\n",
              "      <td>0</td>\n",
              "      <td>11</td>\n",
              "      <td>11</td>\n",
              "    </tr>\n",
              "    <tr>\n",
              "      <th>1</th>\n",
              "      <td>GP</td>\n",
              "      <td>F</td>\n",
              "      <td>17</td>\n",
              "      <td>U</td>\n",
              "      <td>GT3</td>\n",
              "      <td>T</td>\n",
              "      <td>1</td>\n",
              "      <td>1</td>\n",
              "      <td>at_home</td>\n",
              "      <td>other</td>\n",
              "      <td>...</td>\n",
              "      <td>5</td>\n",
              "      <td>3</td>\n",
              "      <td>3</td>\n",
              "      <td>1</td>\n",
              "      <td>1</td>\n",
              "      <td>3</td>\n",
              "      <td>2</td>\n",
              "      <td>9</td>\n",
              "      <td>11</td>\n",
              "      <td>11</td>\n",
              "    </tr>\n",
              "    <tr>\n",
              "      <th>2</th>\n",
              "      <td>GP</td>\n",
              "      <td>F</td>\n",
              "      <td>15</td>\n",
              "      <td>U</td>\n",
              "      <td>LE3</td>\n",
              "      <td>T</td>\n",
              "      <td>1</td>\n",
              "      <td>1</td>\n",
              "      <td>at_home</td>\n",
              "      <td>other</td>\n",
              "      <td>...</td>\n",
              "      <td>4</td>\n",
              "      <td>3</td>\n",
              "      <td>2</td>\n",
              "      <td>2</td>\n",
              "      <td>3</td>\n",
              "      <td>3</td>\n",
              "      <td>6</td>\n",
              "      <td>12</td>\n",
              "      <td>13</td>\n",
              "      <td>12</td>\n",
              "    </tr>\n",
              "    <tr>\n",
              "      <th>3</th>\n",
              "      <td>GP</td>\n",
              "      <td>F</td>\n",
              "      <td>15</td>\n",
              "      <td>U</td>\n",
              "      <td>GT3</td>\n",
              "      <td>T</td>\n",
              "      <td>4</td>\n",
              "      <td>2</td>\n",
              "      <td>health</td>\n",
              "      <td>services</td>\n",
              "      <td>...</td>\n",
              "      <td>3</td>\n",
              "      <td>2</td>\n",
              "      <td>2</td>\n",
              "      <td>1</td>\n",
              "      <td>1</td>\n",
              "      <td>5</td>\n",
              "      <td>0</td>\n",
              "      <td>14</td>\n",
              "      <td>14</td>\n",
              "      <td>14</td>\n",
              "    </tr>\n",
              "    <tr>\n",
              "      <th>4</th>\n",
              "      <td>GP</td>\n",
              "      <td>F</td>\n",
              "      <td>16</td>\n",
              "      <td>U</td>\n",
              "      <td>GT3</td>\n",
              "      <td>T</td>\n",
              "      <td>3</td>\n",
              "      <td>3</td>\n",
              "      <td>other</td>\n",
              "      <td>other</td>\n",
              "      <td>...</td>\n",
              "      <td>4</td>\n",
              "      <td>3</td>\n",
              "      <td>2</td>\n",
              "      <td>1</td>\n",
              "      <td>2</td>\n",
              "      <td>5</td>\n",
              "      <td>0</td>\n",
              "      <td>11</td>\n",
              "      <td>13</td>\n",
              "      <td>13</td>\n",
              "    </tr>\n",
              "  </tbody>\n",
              "</table>\n",
              "<p>5 rows × 33 columns</p>\n",
              "</div>"
            ],
            "text/plain": [
              "  school sex  age address famsize Pstatus  Medu  Fedu     Mjob      Fjob ...  \\\n",
              "0     GP   F   18       U     GT3       A     4     4  at_home   teacher ...   \n",
              "1     GP   F   17       U     GT3       T     1     1  at_home     other ...   \n",
              "2     GP   F   15       U     LE3       T     1     1  at_home     other ...   \n",
              "3     GP   F   15       U     GT3       T     4     2   health  services ...   \n",
              "4     GP   F   16       U     GT3       T     3     3    other     other ...   \n",
              "\n",
              "  famrel freetime  goout  Dalc  Walc health absences  G1  G2  G3  \n",
              "0      4        3      4     1     1      3        4   0  11  11  \n",
              "1      5        3      3     1     1      3        2   9  11  11  \n",
              "2      4        3      2     2     3      3        6  12  13  12  \n",
              "3      3        2      2     1     1      5        0  14  14  14  \n",
              "4      4        3      2     1     2      5        0  11  13  13  \n",
              "\n",
              "[5 rows x 33 columns]"
            ]
          },
          "metadata": {
            "tags": []
          },
          "execution_count": 3
        }
      ]
    },
    {
      "cell_type": "code",
      "metadata": {
        "id": "pLO4Y3m9TjvI",
        "outputId": "b2b77b27-ff4f-4058-bfea-6c7dfd2df139"
      },
      "source": [
        "attributes = [\"G3\",\"school\"]\n",
        "data_por = data_por[attributes]\n",
        "data_por.head()"
      ],
      "execution_count": null,
      "outputs": [
        {
          "output_type": "execute_result",
          "data": {
            "text/html": [
              "<div>\n",
              "<style>\n",
              "    .dataframe thead tr:only-child th {\n",
              "        text-align: right;\n",
              "    }\n",
              "\n",
              "    .dataframe thead th {\n",
              "        text-align: left;\n",
              "    }\n",
              "\n",
              "    .dataframe tbody tr th {\n",
              "        vertical-align: top;\n",
              "    }\n",
              "</style>\n",
              "<table border=\"1\" class=\"dataframe\">\n",
              "  <thead>\n",
              "    <tr style=\"text-align: right;\">\n",
              "      <th></th>\n",
              "      <th>G3</th>\n",
              "      <th>school</th>\n",
              "    </tr>\n",
              "  </thead>\n",
              "  <tbody>\n",
              "    <tr>\n",
              "      <th>0</th>\n",
              "      <td>11</td>\n",
              "      <td>GP</td>\n",
              "    </tr>\n",
              "    <tr>\n",
              "      <th>1</th>\n",
              "      <td>11</td>\n",
              "      <td>GP</td>\n",
              "    </tr>\n",
              "    <tr>\n",
              "      <th>2</th>\n",
              "      <td>12</td>\n",
              "      <td>GP</td>\n",
              "    </tr>\n",
              "    <tr>\n",
              "      <th>3</th>\n",
              "      <td>14</td>\n",
              "      <td>GP</td>\n",
              "    </tr>\n",
              "    <tr>\n",
              "      <th>4</th>\n",
              "      <td>13</td>\n",
              "      <td>GP</td>\n",
              "    </tr>\n",
              "  </tbody>\n",
              "</table>\n",
              "</div>"
            ],
            "text/plain": [
              "   G3 school\n",
              "0  11     GP\n",
              "1  11     GP\n",
              "2  12     GP\n",
              "3  14     GP\n",
              "4  13     GP"
            ]
          },
          "metadata": {
            "tags": []
          },
          "execution_count": 4
        }
      ]
    },
    {
      "cell_type": "code",
      "metadata": {
        "id": "9KhEB4vqTjvJ",
        "outputId": "a8e66fb3-17ae-4de1-d407-8bf827aeb1ed"
      },
      "source": [
        "temp=data_por.school.value_counts()\n",
        "temp"
      ],
      "execution_count": null,
      "outputs": [
        {
          "output_type": "execute_result",
          "data": {
            "text/plain": [
              "GP    423\n",
              "MS    226\n",
              "Name: school, dtype: int64"
            ]
          },
          "metadata": {
            "tags": []
          },
          "execution_count": 5
        }
      ]
    },
    {
      "cell_type": "code",
      "metadata": {
        "id": "fb0QuHULTjvJ",
        "outputId": "149c2013-c97d-4721-c464-575bc0c79ed5"
      },
      "source": [
        "P_school = pd.DataFrame((temp/temp.sum()).sort_index())  # sort_index() - sorts according to the row names\n",
        "P_school.index = [\"GP\",\"MS\"]\n",
        "P_school.columns = [\"Probability\"]  # This DataFrame has only one column\n",
        "\n",
        "# Now we plot these probabilities (using bar plot)\n",
        "P_school.plot.bar(fontsize=12)\n",
        "plt.ylabel(\"Probability\",fontsize=12)\n",
        "plt.xlabel(\"School\",fontsize=12)\n",
        "plt.show()\n",
        "print(P_school)"
      ],
      "execution_count": null,
      "outputs": [
        {
          "output_type": "display_data",
          "data": {
            "image/png": "[encoded data removed]",
            "text/plain": [
              "<matplotlib.figure.Figure at 0x281ee31ae80>"
            ]
          },
          "metadata": {
            "tags": []
          }
        },
        {
          "output_type": "stream",
          "text": [
            "    Probability\n",
            "GP     0.651772\n",
            "MS     0.348228\n"
          ],
          "name": "stdout"
        }
      ]
    },
    {
      "cell_type": "code",
      "metadata": {
        "id": "wvX0b3AbTjvK",
        "outputId": "0d25b428-1228-4aa8-b80a-f3db4bb3f3fb"
      },
      "source": [
        "data_temp = (data_por[\"G3\"]>=15).value_counts()\n",
        "data_temp"
      ],
      "execution_count": null,
      "outputs": [
        {
          "output_type": "execute_result",
          "data": {
            "text/plain": [
              "False    518\n",
              "True     131\n",
              "Name: G3, dtype: int64"
            ]
          },
          "metadata": {
            "tags": []
          },
          "execution_count": 7
        }
      ]
    },
    {
      "cell_type": "code",
      "metadata": {
        "id": "r8Har1FxTjvK",
        "outputId": "8e3b7a5b-9b8c-4cec-a0c4-7f66d197a254"
      },
      "source": [
        "data_temp1 = ((data_por[\"G3\"]>5) & (data_por[\"G3\"]<15)).value_counts()\n",
        "data_temp1"
      ],
      "execution_count": null,
      "outputs": [
        {
          "output_type": "execute_result",
          "data": {
            "text/plain": [
              "True     501\n",
              "False    148\n",
              "Name: G3, dtype: int64"
            ]
          },
          "metadata": {
            "tags": []
          },
          "execution_count": 8
        }
      ]
    },
    {
      "cell_type": "code",
      "metadata": {
        "id": "NgZJD2UYTjvL",
        "outputId": "ea378849-4b17-4148-8381-a368aa7e411c"
      },
      "source": [
        "data_temp2 = (data_por[\"G3\"]<=5).value_counts()\n",
        "data_temp2"
      ],
      "execution_count": null,
      "outputs": [
        {
          "output_type": "execute_result",
          "data": {
            "text/plain": [
              "False    632\n",
              "True      17\n",
              "Name: G3, dtype: int64"
            ]
          },
          "metadata": {
            "tags": []
          },
          "execution_count": 9
        }
      ]
    },
    {
      "cell_type": "code",
      "metadata": {
        "id": "ntAlyhSgTjvL",
        "outputId": "c51429e7-eb68-405a-de79-a305f8393398"
      },
      "source": [
        "P_G3=pd.DataFrame([data_temp2[True], data_temp1[True],data_temp[True]])/len(data_por)\n",
        "P_G3.index = [\"<=5\",\"5< <15\",\">=15\"]\n",
        "P_G3.columns = [\"Probability\"]  # This DataFrame has only one column\n",
        "\n",
        "# Now we plot these probabilities (using bar plot)\n",
        "P_G3.plot.bar(fontsize=12)\n",
        "plt.ylabel(\"Probability\",fontsize=12)\n",
        "plt.xlabel(\"School\",fontsize=12)\n",
        "plt.show()\n",
        "print(P_G3)"
      ],
      "execution_count": null,
      "outputs": [
        {
          "output_type": "display_data",
          "data": {
            "image/png": "[encoded data removed]",
            "text/plain": [
              "<matplotlib.figure.Figure at 0x281ee3970b8>"
            ]
          },
          "metadata": {
            "tags": []
          }
        },
        {
          "output_type": "stream",
          "text": [
            "        Probability\n",
            "<=5        0.026194\n",
            "5< <15     0.771957\n",
            ">=15       0.201849\n"
          ],
          "name": "stdout"
        }
      ]
    },
    {
      "cell_type": "code",
      "metadata": {
        "id": "-vzLGUfiTjvM",
        "outputId": "12cc9669-418f-41cc-849a-16243fd56294"
      },
      "source": [
        "data_temp3 = data_por[data_por[\"G3\"]>=15]['school'].value_counts()\n",
        "data_temp3"
      ],
      "execution_count": null,
      "outputs": [
        {
          "output_type": "execute_result",
          "data": {
            "text/plain": [
              "GP    100\n",
              "MS     31\n",
              "Name: school, dtype: int64"
            ]
          },
          "metadata": {
            "tags": []
          },
          "execution_count": 11
        }
      ]
    },
    {
      "cell_type": "code",
      "metadata": {
        "id": "JkdIllxiTjvM",
        "outputId": "4420846a-f854-4670-d22b-76973a604dbe"
      },
      "source": [
        "P_cond1=pd.DataFrame(data_temp3/temp)\n",
        "P_cond1.columns = [\"Probability\"]  # This DataFrame has only one column\n",
        "\n",
        "# Now we plot these probabilities (using bar plot)\n",
        "P_cond1.plot.bar(fontsize=12)\n",
        "plt.ylabel(\"Probability\",fontsize=12)\n",
        "plt.xlabel(\"School\",fontsize=12)\n",
        "plt.show()\n",
        "print(P_cond1)"
      ],
      "execution_count": null,
      "outputs": [
        {
          "output_type": "display_data",
          "data": {
            "image/png": "[encoded data removed]",
            "text/plain": [
              "<matplotlib.figure.Figure at 0x281ee3ed8d0>"
            ]
          },
          "metadata": {
            "tags": []
          }
        },
        {
          "output_type": "stream",
          "text": [
            "    Probability\n",
            "GP     0.236407\n",
            "MS     0.137168\n"
          ],
          "name": "stdout"
        }
      ]
    },
    {
      "cell_type": "code",
      "metadata": {
        "id": "pP5VlxT6TjvN",
        "outputId": "61482684-f7b9-4315-c10b-643a41e8997f"
      },
      "source": [
        "P_cond2=pd.DataFrame(P_cond1*P_school/P_G3.loc['>=15'])\n",
        "P_cond2.columns = [\"Probability\"]  # This DataFrame has only one column\n",
        "\n",
        "# Now we plot these probabilities (using bar plot)\n",
        "P_cond2.plot.bar(fontsize=12)\n",
        "plt.ylabel(\"Probability\",fontsize=12)\n",
        "plt.xlabel(\"School\",fontsize=12)\n",
        "plt.show()\n",
        "print(P_cond2)"
      ],
      "execution_count": null,
      "outputs": [
        {
          "output_type": "display_data",
          "data": {
            "image/png": "[encoded data removed]",
            "text/plain": [
              "<matplotlib.figure.Figure at 0x281ee45d860>"
            ]
          },
          "metadata": {
            "tags": []
          }
        },
        {
          "output_type": "stream",
          "text": [
            "    Probability\n",
            "GP     0.763359\n",
            "MS     0.236641\n"
          ],
          "name": "stdout"
        }
      ]
    },
    {
      "cell_type": "code",
      "metadata": {
        "id": "JLq8j9yVTjvN",
        "outputId": "8f73833e-5e7e-4024-d17f-1dadf33ea18d"
      },
      "source": [
        "P_G3.loc['>=15']"
      ],
      "execution_count": null,
      "outputs": [
        {
          "output_type": "execute_result",
          "data": {
            "text/plain": [
              "Probability    0.201849\n",
              "Name: >=15, dtype: float64"
            ]
          },
          "metadata": {
            "tags": []
          },
          "execution_count": 14
        }
      ]
    },
    {
      "cell_type": "markdown",
      "metadata": {
        "id": "57kyMoabTjvN"
      },
      "source": [
        "# Problem 3\n",
        "\n",
        "Read the dataset \"temperature.csv\" in Pandas DataFrame format.\n",
        "\n",
        "a) Choose one city (column) and plots its normalized histogram (adjust the number of bins).\n",
        "\n",
        "b) Based on the plotted histogram, find and plot the normal (Gaussian) distribution (or a Gaussian mixture) which visually seems to be the best approximation of the normalized temperatures histogram (plot the obtained approximation and the histogram on the same figure). "
      ]
    },
    {
      "cell_type": "code",
      "metadata": {
        "id": "1aOZ1UkRTjvO",
        "outputId": "b34faf9b-d0a8-4d15-f328-ba1fbe705e81"
      },
      "source": [
        "import pandas as pd\n",
        "import numpy as np\n",
        "import matplotlib.pyplot as plt\n",
        "from scipy.stats import norm\n",
        "\n",
        "\n",
        "plt.style.use('seaborn-talk')\n",
        "df1 = pd.read_csv(\"temperature.csv\")\n",
        "print(df1.columns)\n",
        "df1.head()"
      ],
      "execution_count": null,
      "outputs": [
        {
          "output_type": "stream",
          "text": [
            "Index(['datetime', 'Vancouver', 'Portland', 'San Francisco', 'Seattle',\n",
            "       'Los Angeles', 'San Diego', 'Las Vegas', 'Phoenix', 'Albuquerque',\n",
            "       'Denver', 'San Antonio', 'Dallas', 'Houston', 'Kansas City',\n",
            "       'Minneapolis', 'Saint Louis', 'Chicago', 'Nashville', 'Indianapolis',\n",
            "       'Atlanta', 'Detroit', 'Jacksonville', 'Charlotte', 'Miami',\n",
            "       'Pittsburgh', 'Toronto', 'Philadelphia', 'New York', 'Montreal',\n",
            "       'Boston', 'Beersheba', 'Tel Aviv District', 'Eilat', 'Haifa',\n",
            "       'Nahariyya', 'Jerusalem'],\n",
            "      dtype='object')\n"
          ],
          "name": "stdout"
        },
        {
          "output_type": "execute_result",
          "data": {
            "text/html": [
              "<div>\n",
              "<style>\n",
              "    .dataframe thead tr:only-child th {\n",
              "        text-align: right;\n",
              "    }\n",
              "\n",
              "    .dataframe thead th {\n",
              "        text-align: left;\n",
              "    }\n",
              "\n",
              "    .dataframe tbody tr th {\n",
              "        vertical-align: top;\n",
              "    }\n",
              "</style>\n",
              "<table border=\"1\" class=\"dataframe\">\n",
              "  <thead>\n",
              "    <tr style=\"text-align: right;\">\n",
              "      <th></th>\n",
              "      <th>datetime</th>\n",
              "      <th>Vancouver</th>\n",
              "      <th>Portland</th>\n",
              "      <th>San Francisco</th>\n",
              "      <th>Seattle</th>\n",
              "      <th>Los Angeles</th>\n",
              "      <th>San Diego</th>\n",
              "      <th>Las Vegas</th>\n",
              "      <th>Phoenix</th>\n",
              "      <th>Albuquerque</th>\n",
              "      <th>...</th>\n",
              "      <th>Philadelphia</th>\n",
              "      <th>New York</th>\n",
              "      <th>Montreal</th>\n",
              "      <th>Boston</th>\n",
              "      <th>Beersheba</th>\n",
              "      <th>Tel Aviv District</th>\n",
              "      <th>Eilat</th>\n",
              "      <th>Haifa</th>\n",
              "      <th>Nahariyya</th>\n",
              "      <th>Jerusalem</th>\n",
              "    </tr>\n",
              "  </thead>\n",
              "  <tbody>\n",
              "    <tr>\n",
              "      <th>0</th>\n",
              "      <td>2012-10-01 12:00:00</td>\n",
              "      <td>NaN</td>\n",
              "      <td>NaN</td>\n",
              "      <td>NaN</td>\n",
              "      <td>NaN</td>\n",
              "      <td>NaN</td>\n",
              "      <td>NaN</td>\n",
              "      <td>NaN</td>\n",
              "      <td>NaN</td>\n",
              "      <td>NaN</td>\n",
              "      <td>...</td>\n",
              "      <td>NaN</td>\n",
              "      <td>NaN</td>\n",
              "      <td>NaN</td>\n",
              "      <td>NaN</td>\n",
              "      <td>NaN</td>\n",
              "      <td>NaN</td>\n",
              "      <td>309.100000</td>\n",
              "      <td>NaN</td>\n",
              "      <td>NaN</td>\n",
              "      <td>NaN</td>\n",
              "    </tr>\n",
              "    <tr>\n",
              "      <th>1</th>\n",
              "      <td>2012-10-01 13:00:00</td>\n",
              "      <td>284.630000</td>\n",
              "      <td>282.080000</td>\n",
              "      <td>289.480000</td>\n",
              "      <td>281.800000</td>\n",
              "      <td>291.870000</td>\n",
              "      <td>291.530000</td>\n",
              "      <td>293.410000</td>\n",
              "      <td>296.600000</td>\n",
              "      <td>285.120000</td>\n",
              "      <td>...</td>\n",
              "      <td>285.630000</td>\n",
              "      <td>288.220000</td>\n",
              "      <td>285.830000</td>\n",
              "      <td>287.170000</td>\n",
              "      <td>307.590000</td>\n",
              "      <td>305.470000</td>\n",
              "      <td>310.580000</td>\n",
              "      <td>304.4</td>\n",
              "      <td>304.4</td>\n",
              "      <td>303.5</td>\n",
              "    </tr>\n",
              "    <tr>\n",
              "      <th>2</th>\n",
              "      <td>2012-10-01 14:00:00</td>\n",
              "      <td>284.629041</td>\n",
              "      <td>282.083252</td>\n",
              "      <td>289.474993</td>\n",
              "      <td>281.797217</td>\n",
              "      <td>291.868186</td>\n",
              "      <td>291.533501</td>\n",
              "      <td>293.403141</td>\n",
              "      <td>296.608509</td>\n",
              "      <td>285.154558</td>\n",
              "      <td>...</td>\n",
              "      <td>285.663208</td>\n",
              "      <td>288.247676</td>\n",
              "      <td>285.834650</td>\n",
              "      <td>287.186092</td>\n",
              "      <td>307.590000</td>\n",
              "      <td>304.310000</td>\n",
              "      <td>310.495769</td>\n",
              "      <td>304.4</td>\n",
              "      <td>304.4</td>\n",
              "      <td>303.5</td>\n",
              "    </tr>\n",
              "    <tr>\n",
              "      <th>3</th>\n",
              "      <td>2012-10-01 15:00:00</td>\n",
              "      <td>284.626998</td>\n",
              "      <td>282.091866</td>\n",
              "      <td>289.460618</td>\n",
              "      <td>281.789833</td>\n",
              "      <td>291.862844</td>\n",
              "      <td>291.543355</td>\n",
              "      <td>293.392177</td>\n",
              "      <td>296.631487</td>\n",
              "      <td>285.233952</td>\n",
              "      <td>...</td>\n",
              "      <td>285.756824</td>\n",
              "      <td>288.326940</td>\n",
              "      <td>285.847790</td>\n",
              "      <td>287.231672</td>\n",
              "      <td>307.391513</td>\n",
              "      <td>304.281841</td>\n",
              "      <td>310.411538</td>\n",
              "      <td>304.4</td>\n",
              "      <td>304.4</td>\n",
              "      <td>303.5</td>\n",
              "    </tr>\n",
              "    <tr>\n",
              "      <th>4</th>\n",
              "      <td>2012-10-01 16:00:00</td>\n",
              "      <td>284.624955</td>\n",
              "      <td>282.100481</td>\n",
              "      <td>289.446243</td>\n",
              "      <td>281.782449</td>\n",
              "      <td>291.857503</td>\n",
              "      <td>291.553209</td>\n",
              "      <td>293.381213</td>\n",
              "      <td>296.654466</td>\n",
              "      <td>285.313345</td>\n",
              "      <td>...</td>\n",
              "      <td>285.850440</td>\n",
              "      <td>288.406203</td>\n",
              "      <td>285.860929</td>\n",
              "      <td>287.277251</td>\n",
              "      <td>307.145200</td>\n",
              "      <td>304.238015</td>\n",
              "      <td>310.327308</td>\n",
              "      <td>304.4</td>\n",
              "      <td>304.4</td>\n",
              "      <td>303.5</td>\n",
              "    </tr>\n",
              "  </tbody>\n",
              "</table>\n",
              "<p>5 rows × 37 columns</p>\n",
              "</div>"
            ],
            "text/plain": [
              "              datetime   Vancouver    Portland  San Francisco     Seattle  \\\n",
              "0  2012-10-01 12:00:00         NaN         NaN            NaN         NaN   \n",
              "1  2012-10-01 13:00:00  284.630000  282.080000     289.480000  281.800000   \n",
              "2  2012-10-01 14:00:00  284.629041  282.083252     289.474993  281.797217   \n",
              "3  2012-10-01 15:00:00  284.626998  282.091866     289.460618  281.789833   \n",
              "4  2012-10-01 16:00:00  284.624955  282.100481     289.446243  281.782449   \n",
              "\n",
              "   Los Angeles   San Diego   Las Vegas     Phoenix  Albuquerque    ...      \\\n",
              "0          NaN         NaN         NaN         NaN          NaN    ...       \n",
              "1   291.870000  291.530000  293.410000  296.600000   285.120000    ...       \n",
              "2   291.868186  291.533501  293.403141  296.608509   285.154558    ...       \n",
              "3   291.862844  291.543355  293.392177  296.631487   285.233952    ...       \n",
              "4   291.857503  291.553209  293.381213  296.654466   285.313345    ...       \n",
              "\n",
              "   Philadelphia    New York    Montreal      Boston   Beersheba  \\\n",
              "0           NaN         NaN         NaN         NaN         NaN   \n",
              "1    285.630000  288.220000  285.830000  287.170000  307.590000   \n",
              "2    285.663208  288.247676  285.834650  287.186092  307.590000   \n",
              "3    285.756824  288.326940  285.847790  287.231672  307.391513   \n",
              "4    285.850440  288.406203  285.860929  287.277251  307.145200   \n",
              "\n",
              "   Tel Aviv District       Eilat  Haifa  Nahariyya  Jerusalem  \n",
              "0                NaN  309.100000    NaN        NaN        NaN  \n",
              "1         305.470000  310.580000  304.4      304.4      303.5  \n",
              "2         304.310000  310.495769  304.4      304.4      303.5  \n",
              "3         304.281841  310.411538  304.4      304.4      303.5  \n",
              "4         304.238015  310.327308  304.4      304.4      303.5  \n",
              "\n",
              "[5 rows x 37 columns]"
            ]
          },
          "metadata": {
            "tags": []
          },
          "execution_count": 15
        }
      ]
    },
    {
      "cell_type": "code",
      "metadata": {
        "id": "dXIVKBJ2TjvO",
        "outputId": "d3c781f0-2577-4e39-c810-cb5eedf2ba56"
      },
      "source": [
        "city = ['Chicago']\n",
        "df = pd.read_csv(\"temperature.csv\",usecols=city)\n",
        "df.head()"
      ],
      "execution_count": null,
      "outputs": [
        {
          "output_type": "execute_result",
          "data": {
            "text/html": [
              "<div>\n",
              "<style>\n",
              "    .dataframe thead tr:only-child th {\n",
              "        text-align: right;\n",
              "    }\n",
              "\n",
              "    .dataframe thead th {\n",
              "        text-align: left;\n",
              "    }\n",
              "\n",
              "    .dataframe tbody tr th {\n",
              "        vertical-align: top;\n",
              "    }\n",
              "</style>\n",
              "<table border=\"1\" class=\"dataframe\">\n",
              "  <thead>\n",
              "    <tr style=\"text-align: right;\">\n",
              "      <th></th>\n",
              "      <th>Chicago</th>\n",
              "    </tr>\n",
              "  </thead>\n",
              "  <tbody>\n",
              "    <tr>\n",
              "      <th>0</th>\n",
              "      <td>NaN</td>\n",
              "    </tr>\n",
              "    <tr>\n",
              "      <th>1</th>\n",
              "      <td>284.010000</td>\n",
              "    </tr>\n",
              "    <tr>\n",
              "      <th>2</th>\n",
              "      <td>284.054691</td>\n",
              "    </tr>\n",
              "    <tr>\n",
              "      <th>3</th>\n",
              "      <td>284.177412</td>\n",
              "    </tr>\n",
              "    <tr>\n",
              "      <th>4</th>\n",
              "      <td>284.300133</td>\n",
              "    </tr>\n",
              "  </tbody>\n",
              "</table>\n",
              "</div>"
            ],
            "text/plain": [
              "      Chicago\n",
              "0         NaN\n",
              "1  284.010000\n",
              "2  284.054691\n",
              "3  284.177412\n",
              "4  284.300133"
            ]
          },
          "metadata": {
            "tags": []
          },
          "execution_count": 16
        }
      ]
    },
    {
      "cell_type": "code",
      "metadata": {
        "id": "SL0XVGS5TjvP",
        "outputId": "dcdc479b-03a3-4ef4-c0ca-0d89d1c7aad6"
      },
      "source": [
        "hist = df.hist(density=True,bins=80)\n",
        "plt.show()"
      ],
      "execution_count": null,
      "outputs": [
        {
          "output_type": "display_data",
          "data": {
            "image/png": "[encoded data removed]",
            "text/plain": [
              "<matplotlib.figure.Figure at 0x281ee340160>"
            ]
          },
          "metadata": {
            "tags": []
          }
        }
      ]
    },
    {
      "cell_type": "code",
      "metadata": {
        "id": "wYYOclq6TjvP",
        "outputId": "072435e1-8a50-414a-d792-b7a497377229"
      },
      "source": [
        "hist = df.hist(normed=True,bins=80)\n",
        "\n",
        "step=0.1\n",
        "x = np.arange(200, 350, step)\n",
        "m=284\n",
        "sig=11\n",
        "P_norm = norm.pdf(x, m, sig)\n",
        "\n",
        "plt.plot(x, P_norm, 'b', linewidth=3.0)\n",
        "plt.show()"
      ],
      "execution_count": null,
      "outputs": [
        {
          "output_type": "display_data",
          "data": {
            "image/png": "[encoded data removed]",
            "text/plain": [
              "<matplotlib.figure.Figure at 0x281f006e6d8>"
            ]
          },
          "metadata": {
            "tags": []
          }
        }
      ]
    },
    {
      "cell_type": "code",
      "metadata": {
        "collapsed": true,
        "id": "UHWG9gGhTjvP"
      },
      "source": [
        ""
      ],
      "execution_count": null,
      "outputs": []
    }
  ]
}